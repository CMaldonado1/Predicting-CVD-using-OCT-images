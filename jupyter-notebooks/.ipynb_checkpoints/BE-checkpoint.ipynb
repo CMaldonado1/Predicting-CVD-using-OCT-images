{
 "cells": [
  {
   "cell_type": "code",
   "execution_count": 3,
   "id": "b611d349-a6d0-4aa5-bb73-51b999782147",
   "metadata": {},
   "outputs": [],
   "source": [
    "import torch\n",
    "import numpy as np\n",
    "import pandas as pd\n",
    "import torchvision.transforms.functional as F\n",
    "import torchvision.transforms as transforms\n",
    "import matplotlib.pyplot as plt\n",
    "import torchvision.transforms as transforms\n",
    "from sklearn.decomposition import PCA\n",
    "import torchvision.transforms as T\n",
    "from oct_ml_vae_fc import VAE_OCT, classifier_oct, VAE_classifier_OCT  #_class\n",
    "from pl_datamodule_vae_fc import OCT_DM, MM\n",
    "from sklearn import preprocessing\n",
    "import torch.nn as nn\n",
    "from captum.attr import Occlusion, IntegratedGradients, LayerConductance\n",
    "from sklearn.feature_selection import RFE\n",
    "from sklearn.ensemble import RandomForestClassifier\n",
    "import sklearn.model_selection as skms\n",
    "from sklearn.metrics import accuracy_score, precision_score, recall_score, roc_auc_score, confusion_matrix, roc_curve, auc"
   ]
  },
  {
   "cell_type": "code",
   "execution_count": 4,
   "id": "df0d55e0-2043-4706-9cd4-682a689fad58",
   "metadata": {},
   "outputs": [],
   "source": [
    "random_seed = 295471\n",
    "test_size = 0.2\n",
    "train_size = 1-test_size"
   ]
  },
  {
   "cell_type": "code",
   "execution_count": 5,
   "id": "870c2165-2517-4a33-8fb5-69385f41a30f",
   "metadata": {},
   "outputs": [],
   "source": [
    "zs_be_md = pd.read_excel('zs_be_mtdt.xlsx')\n",
    "selected_columns = ['ID', 'Vascular'] + [f\"zl{i:03d}\" for i in range(128)] + [f\"zr{i:03d}\" for i in range(128)]\n",
    "zs_be = zs_be_md[selected_columns]\n",
    "X = zs_be.drop(['Vascular','ID'], axis=1)\n",
    "y = zs_be['Vascular']"
   ]
  },
  {
   "cell_type": "code",
   "execution_count": 6,
   "id": "eb3fd281-ee2d-47b7-84c4-251895d0bbb2",
   "metadata": {},
   "outputs": [],
   "source": [
    "new_test_set = pd.read_excel('../new_test_set/new_test_set_1.xlsx')\n",
    "selected_columns2 = ['IDs', 'Vascular'] + [f\"zl{i:03d}\" for i in range(128)] + [f\"zr{i:03d}\" for i in range(128)]\n",
    "zs_le_test = new_test_set[selected_columns2]\n",
    "X_t = zs_le_test.drop(['Vascular','IDs'], axis=1)\n",
    "y_t = zs_le_test['Vascular']"
   ]
  },
  {
   "cell_type": "code",
   "execution_count": 7,
   "id": "2cc96afd-283c-45f3-bd73-3ddc12859da1",
   "metadata": {},
   "outputs": [
    {
     "name": "stderr",
     "output_type": "stream",
     "text": [
      "/tmp/ipykernel_838081/775141070.py:1: FutureWarning: The frame.append method is deprecated and will be removed from pandas in a future version. Use pandas.concat instead.\n",
      "  x_train = X.append(X_t)\n",
      "/tmp/ipykernel_838081/775141070.py:2: FutureWarning: The series.append method is deprecated and will be removed from pandas in a future version. Use pandas.concat instead.\n",
      "  y_train = y.append(y_t)\n"
     ]
    }
   ],
   "source": [
    "x_train = X.append(X_t)\n",
    "y_train = y.append(y_t)"
   ]
  },
  {
   "cell_type": "code",
   "execution_count": 46,
   "id": "1b5bb92d-6ae4-4b2b-aece-76132440817c",
   "metadata": {},
   "outputs": [],
   "source": [
    "X6 = X[['zl005', 'zl054', 'zl066', 'zl075', 'zl115', 'zl121', 'zr056', 'zr067', \n",
    "       'zr072',           'zr113']]"
   ]
  },
  {
   "cell_type": "code",
   "execution_count": 8,
   "id": "007fef4e-f2b6-4d46-9aa2-13110443f57a",
   "metadata": {},
   "outputs": [],
   "source": [
    "rf_classifier = RandomForestClassifier()\n",
    "rfe = RFE(estimator=rf_classifier, n_features_to_select=10)"
   ]
  },
  {
   "cell_type": "code",
   "execution_count": 9,
   "id": "1ec1cf7a-3d44-4e55-afd6-9a02188fec96",
   "metadata": {},
   "outputs": [],
   "source": [
    "X_selected = rfe.fit_transform(x_train, y_train)\n",
    "selected_features = X.columns[rfe.support_]"
   ]
  },
  {
   "cell_type": "code",
   "execution_count": 47,
   "id": "f5898f9d-3108-402a-8b62-e8f86e7e55eb",
   "metadata": {},
   "outputs": [],
   "source": [
    "features = X6.columns.tolist()"
   ]
  },
  {
   "cell_type": "code",
   "execution_count": 10,
   "id": "1d9d9bdd-1235-4aa2-9223-c81ac4c4c2f5",
   "metadata": {},
   "outputs": [],
   "source": [
    "X_train, X_test, y_train, y_test = skms.train_test_split(X_selected, y_train, test_size=test_size, random_state=random_seed)\n",
    "X_train_rows, y_train_rows = X_train.shape[0], y_train.shape[0]\n",
    "X_test_rows, y_test_rows = X_test.shape[0], y_test.shape[0]\n",
    "train_rows, test_rows = -1, -1"
   ]
  },
  {
   "cell_type": "code",
   "execution_count": 11,
   "id": "216218cd-c3c4-47e9-b722-925a620b9453",
   "metadata": {},
   "outputs": [],
   "source": [
    "if X_train_rows == y_train_rows:\n",
    "    train_rows = X_train_rows\n",
    "\n",
    "if X_test_rows == y_test_rows:\n",
    "    test_rows = X_test_rows"
   ]
  },
  {
   "cell_type": "code",
   "execution_count": 12,
   "id": "90067b8d-b7e4-4e12-9600-18fc433f3729",
   "metadata": {},
   "outputs": [
    {
     "name": "stdout",
     "output_type": "stream",
     "text": [
      "1126\n",
      "486\n"
     ]
    }
   ],
   "source": [
    "print(len(y_train[y_train==0]))\n",
    "print(len(y_train[y_train==1]))"
   ]
  },
  {
   "cell_type": "code",
   "execution_count": 51,
   "id": "3bafeaaf-4dee-4020-b859-d6ac794b6565",
   "metadata": {},
   "outputs": [
    {
     "name": "stdout",
     "output_type": "stream",
     "text": [
      "> features = 10\n",
      "> training set = 1162 (0.949)\n",
      "> testing set = 62 (0.051) \n",
      "\n"
     ]
    }
   ],
   "source": [
    "rows, cols = X6.shape\n",
    "print(f'> features = {len(features)}')\n",
    "print(f'> training set = {train_rows} ({round(train_rows*1.0/rows,3)})')\n",
    "print(f'> testing set = {test_rows} ({round(test_rows*1.0/rows,3)}) \\n')"
   ]
  },
  {
   "cell_type": "code",
   "execution_count": 13,
   "id": "397606aa-f664-4a63-b1fa-b5f71d419e2d",
   "metadata": {},
   "outputs": [],
   "source": [
    "#----  random forest training with hyperparameter tuning\n",
    "random_grid = {'n_estimators': [20,30,40],\n",
    "               'criterion': ['gini', 'entropy'],\n",
    "               'max_features': [0.25, 0.50, 0.75],\n",
    "               'max_depth': [2],\n",
    "               'min_samples_split': [10,20,30],\n",
    "               'min_samples_leaf': [10,20,30],\n",
    "               'bootstrap': [True, False],\n",
    "               'class_weight': ['balanced'],\n",
    "               'random_state': [random_seed]}"
   ]
  },
  {
   "cell_type": "code",
   "execution_count": 14,
   "id": "0f0179af-8504-42ea-9d29-84765a355075",
   "metadata": {},
   "outputs": [
    {
     "name": "stdout",
     "output_type": "stream",
     "text": [
      "> Random Forest classifier...\n"
     ]
    }
   ],
   "source": [
    "print('> Random Forest classifier...')\n",
    "optimized_rfc = skms.RandomizedSearchCV(estimator = RandomForestClassifier(), \n",
    "                                        param_distributions = random_grid, \n",
    "                                        n_iter = 500, \n",
    "                                        cv = 5, \n",
    "                                        scoring=['roc_auc'],\n",
    "                                        refit ='roc_auc',\n",
    "                                        verbose=1, \n",
    "                                        n_jobs = -1,\n",
    "                                        random_state = random_seed, \n",
    "                                        return_train_score= True)"
   ]
  },
  {
   "cell_type": "code",
   "execution_count": 15,
   "id": "9a6dc620-09cc-4efa-addb-a6491610c62a",
   "metadata": {},
   "outputs": [
    {
     "name": "stdout",
     "output_type": "stream",
     "text": [
      "Fitting 5 folds for each of 324 candidates, totalling 1620 fits\n"
     ]
    },
    {
     "name": "stderr",
     "output_type": "stream",
     "text": [
      "/home/user/miniconda/envs/oct/lib/python3.9/site-packages/sklearn/model_selection/_search.py:292: UserWarning: The total space of parameters 324 is smaller than n_iter=500. Running 324 iterations. For exhaustive searches, use GridSearchCV.\n",
      "  warnings.warn(\n"
     ]
    },
    {
     "name": "stdout",
     "output_type": "stream",
     "text": [
      "\n",
      "\n"
     ]
    }
   ],
   "source": [
    "optimized_rfc.fit(X_train, np.ravel(y_train))\n",
    "print('\\n')"
   ]
  },
  {
   "cell_type": "code",
   "execution_count": 16,
   "id": "4681c1a8-1c87-4f60-86c1-b1ff27ef19f8",
   "metadata": {},
   "outputs": [],
   "source": [
    "#----  obtaining results of the grid run\n",
    "cv_results = optimized_rfc.cv_results_\n",
    "cv_results_df = pd.DataFrame(cv_results)"
   ]
  },
  {
   "cell_type": "code",
   "execution_count": 17,
   "id": "6d159956-ddf4-483a-a50c-514f0045951d",
   "metadata": {},
   "outputs": [
    {
     "data": {
      "text/html": [
       "<div>\n",
       "<style scoped>\n",
       "    .dataframe tbody tr th:only-of-type {\n",
       "        vertical-align: middle;\n",
       "    }\n",
       "\n",
       "    .dataframe tbody tr th {\n",
       "        vertical-align: top;\n",
       "    }\n",
       "\n",
       "    .dataframe thead th {\n",
       "        text-align: right;\n",
       "    }\n",
       "</style>\n",
       "<table border=\"1\" class=\"dataframe\">\n",
       "  <thead>\n",
       "    <tr style=\"text-align: right;\">\n",
       "      <th></th>\n",
       "      <th>split0_test_roc_auc</th>\n",
       "      <th>split1_test_roc_auc</th>\n",
       "      <th>split2_test_roc_auc</th>\n",
       "      <th>mean_test_roc_auc</th>\n",
       "      <th>std_test_roc_auc</th>\n",
       "      <th>rank_test_roc_auc</th>\n",
       "    </tr>\n",
       "  </thead>\n",
       "  <tbody>\n",
       "    <tr>\n",
       "      <th>20</th>\n",
       "      <td>0.656464</td>\n",
       "      <td>0.675873</td>\n",
       "      <td>0.761420</td>\n",
       "      <td>0.683237</td>\n",
       "      <td>0.044789</td>\n",
       "      <td>1</td>\n",
       "    </tr>\n",
       "    <tr>\n",
       "      <th>26</th>\n",
       "      <td>0.656464</td>\n",
       "      <td>0.675873</td>\n",
       "      <td>0.761420</td>\n",
       "      <td>0.683237</td>\n",
       "      <td>0.044789</td>\n",
       "      <td>1</td>\n",
       "    </tr>\n",
       "    <tr>\n",
       "      <th>23</th>\n",
       "      <td>0.656464</td>\n",
       "      <td>0.675873</td>\n",
       "      <td>0.761420</td>\n",
       "      <td>0.683237</td>\n",
       "      <td>0.044789</td>\n",
       "      <td>1</td>\n",
       "    </tr>\n",
       "    <tr>\n",
       "      <th>104</th>\n",
       "      <td>0.656373</td>\n",
       "      <td>0.680227</td>\n",
       "      <td>0.753494</td>\n",
       "      <td>0.682394</td>\n",
       "      <td>0.040699</td>\n",
       "      <td>4</td>\n",
       "    </tr>\n",
       "    <tr>\n",
       "      <th>107</th>\n",
       "      <td>0.656373</td>\n",
       "      <td>0.680227</td>\n",
       "      <td>0.753494</td>\n",
       "      <td>0.682394</td>\n",
       "      <td>0.040699</td>\n",
       "      <td>4</td>\n",
       "    </tr>\n",
       "    <tr>\n",
       "      <th>...</th>\n",
       "      <td>...</td>\n",
       "      <td>...</td>\n",
       "      <td>...</td>\n",
       "      <td>...</td>\n",
       "      <td>...</td>\n",
       "      <td>...</td>\n",
       "    </tr>\n",
       "    <tr>\n",
       "      <th>237</th>\n",
       "      <td>0.591529</td>\n",
       "      <td>0.617937</td>\n",
       "      <td>0.650378</td>\n",
       "      <td>0.605779</td>\n",
       "      <td>0.039830</td>\n",
       "      <td>319</td>\n",
       "    </tr>\n",
       "    <tr>\n",
       "      <th>240</th>\n",
       "      <td>0.591529</td>\n",
       "      <td>0.617937</td>\n",
       "      <td>0.650378</td>\n",
       "      <td>0.605779</td>\n",
       "      <td>0.039830</td>\n",
       "      <td>319</td>\n",
       "    </tr>\n",
       "    <tr>\n",
       "      <th>315</th>\n",
       "      <td>0.591529</td>\n",
       "      <td>0.617234</td>\n",
       "      <td>0.643230</td>\n",
       "      <td>0.605468</td>\n",
       "      <td>0.039270</td>\n",
       "      <td>322</td>\n",
       "    </tr>\n",
       "    <tr>\n",
       "      <th>318</th>\n",
       "      <td>0.591529</td>\n",
       "      <td>0.617234</td>\n",
       "      <td>0.643230</td>\n",
       "      <td>0.605468</td>\n",
       "      <td>0.039270</td>\n",
       "      <td>322</td>\n",
       "    </tr>\n",
       "    <tr>\n",
       "      <th>321</th>\n",
       "      <td>0.591529</td>\n",
       "      <td>0.617234</td>\n",
       "      <td>0.643230</td>\n",
       "      <td>0.605468</td>\n",
       "      <td>0.039270</td>\n",
       "      <td>322</td>\n",
       "    </tr>\n",
       "  </tbody>\n",
       "</table>\n",
       "<p>324 rows × 6 columns</p>\n",
       "</div>"
      ],
      "text/plain": [
       "     split0_test_roc_auc  split1_test_roc_auc  split2_test_roc_auc  \\\n",
       "20              0.656464             0.675873             0.761420   \n",
       "26              0.656464             0.675873             0.761420   \n",
       "23              0.656464             0.675873             0.761420   \n",
       "104             0.656373             0.680227             0.753494   \n",
       "107             0.656373             0.680227             0.753494   \n",
       "..                   ...                  ...                  ...   \n",
       "237             0.591529             0.617937             0.650378   \n",
       "240             0.591529             0.617937             0.650378   \n",
       "315             0.591529             0.617234             0.643230   \n",
       "318             0.591529             0.617234             0.643230   \n",
       "321             0.591529             0.617234             0.643230   \n",
       "\n",
       "     mean_test_roc_auc  std_test_roc_auc  rank_test_roc_auc  \n",
       "20            0.683237          0.044789                  1  \n",
       "26            0.683237          0.044789                  1  \n",
       "23            0.683237          0.044789                  1  \n",
       "104           0.682394          0.040699                  4  \n",
       "107           0.682394          0.040699                  4  \n",
       "..                 ...               ...                ...  \n",
       "237           0.605779          0.039830                319  \n",
       "240           0.605779          0.039830                319  \n",
       "315           0.605468          0.039270                322  \n",
       "318           0.605468          0.039270                322  \n",
       "321           0.605468          0.039270                322  \n",
       "\n",
       "[324 rows x 6 columns]"
      ]
     },
     "execution_count": 17,
     "metadata": {},
     "output_type": "execute_result"
    }
   ],
   "source": [
    "cv_results_df[['split0_test_roc_auc', 'split1_test_roc_auc', 'split2_test_roc_auc', 'mean_test_roc_auc', 'std_test_roc_auc', 'rank_test_roc_auc']].sort_values(by ='rank_test_roc_auc')"
   ]
  },
  {
   "cell_type": "code",
   "execution_count": 18,
   "id": "1a235387-faa9-4e49-8c31-9ba7155ffd98",
   "metadata": {},
   "outputs": [
    {
     "data": {
      "text/html": [
       "<div>\n",
       "<style scoped>\n",
       "    .dataframe tbody tr th:only-of-type {\n",
       "        vertical-align: middle;\n",
       "    }\n",
       "\n",
       "    .dataframe tbody tr th {\n",
       "        vertical-align: top;\n",
       "    }\n",
       "\n",
       "    .dataframe thead th {\n",
       "        text-align: right;\n",
       "    }\n",
       "</style>\n",
       "<table border=\"1\" class=\"dataframe\">\n",
       "  <thead>\n",
       "    <tr style=\"text-align: right;\">\n",
       "      <th></th>\n",
       "      <th>mean_train_roc_auc</th>\n",
       "      <th>mean_test_roc_auc</th>\n",
       "      <th>rank_test_roc_auc</th>\n",
       "    </tr>\n",
       "  </thead>\n",
       "  <tbody>\n",
       "    <tr>\n",
       "      <th>20</th>\n",
       "      <td>0.746603</td>\n",
       "      <td>0.683237</td>\n",
       "      <td>1</td>\n",
       "    </tr>\n",
       "    <tr>\n",
       "      <th>26</th>\n",
       "      <td>0.746603</td>\n",
       "      <td>0.683237</td>\n",
       "      <td>1</td>\n",
       "    </tr>\n",
       "    <tr>\n",
       "      <th>23</th>\n",
       "      <td>0.746603</td>\n",
       "      <td>0.683237</td>\n",
       "      <td>1</td>\n",
       "    </tr>\n",
       "    <tr>\n",
       "      <th>104</th>\n",
       "      <td>0.747172</td>\n",
       "      <td>0.682394</td>\n",
       "      <td>4</td>\n",
       "    </tr>\n",
       "    <tr>\n",
       "      <th>107</th>\n",
       "      <td>0.747172</td>\n",
       "      <td>0.682394</td>\n",
       "      <td>4</td>\n",
       "    </tr>\n",
       "    <tr>\n",
       "      <th>...</th>\n",
       "      <td>...</td>\n",
       "      <td>...</td>\n",
       "      <td>...</td>\n",
       "    </tr>\n",
       "    <tr>\n",
       "      <th>237</th>\n",
       "      <td>0.695574</td>\n",
       "      <td>0.605779</td>\n",
       "      <td>319</td>\n",
       "    </tr>\n",
       "    <tr>\n",
       "      <th>240</th>\n",
       "      <td>0.695574</td>\n",
       "      <td>0.605779</td>\n",
       "      <td>319</td>\n",
       "    </tr>\n",
       "    <tr>\n",
       "      <th>315</th>\n",
       "      <td>0.696325</td>\n",
       "      <td>0.605468</td>\n",
       "      <td>322</td>\n",
       "    </tr>\n",
       "    <tr>\n",
       "      <th>318</th>\n",
       "      <td>0.696325</td>\n",
       "      <td>0.605468</td>\n",
       "      <td>322</td>\n",
       "    </tr>\n",
       "    <tr>\n",
       "      <th>321</th>\n",
       "      <td>0.696325</td>\n",
       "      <td>0.605468</td>\n",
       "      <td>322</td>\n",
       "    </tr>\n",
       "  </tbody>\n",
       "</table>\n",
       "<p>324 rows × 3 columns</p>\n",
       "</div>"
      ],
      "text/plain": [
       "     mean_train_roc_auc  mean_test_roc_auc  rank_test_roc_auc\n",
       "20             0.746603           0.683237                  1\n",
       "26             0.746603           0.683237                  1\n",
       "23             0.746603           0.683237                  1\n",
       "104            0.747172           0.682394                  4\n",
       "107            0.747172           0.682394                  4\n",
       "..                  ...                ...                ...\n",
       "237            0.695574           0.605779                319\n",
       "240            0.695574           0.605779                319\n",
       "315            0.696325           0.605468                322\n",
       "318            0.696325           0.605468                322\n",
       "321            0.696325           0.605468                322\n",
       "\n",
       "[324 rows x 3 columns]"
      ]
     },
     "execution_count": 18,
     "metadata": {},
     "output_type": "execute_result"
    }
   ],
   "source": [
    "cv_results_df[['mean_train_roc_auc', 'mean_test_roc_auc', 'rank_test_roc_auc']].sort_values(by ='rank_test_roc_auc')"
   ]
  },
  {
   "cell_type": "code",
   "execution_count": 19,
   "id": "5ff56e18-07fc-42c1-902e-afb3342f0f3b",
   "metadata": {},
   "outputs": [
    {
     "name": "stdout",
     "output_type": "stream",
     "text": [
      "> best hyperparameters = {'random_state': 295471, 'n_estimators': 40, 'min_samples_split': 10, 'min_samples_leaf': 30, 'max_features': 0.25, 'max_depth': 2, 'criterion': 'gini', 'class_weight': 'balanced', 'bootstrap': True}\n",
      "> best cv score = 0.6832371278834193 \n",
      "\n"
     ]
    }
   ],
   "source": [
    "best_params = optimized_rfc.best_params_\n",
    "best_score = optimized_rfc.best_score_\n",
    "print(f'> best hyperparameters = {best_params}')\n",
    "print(f'> best cv score = {best_score} \\n')"
   ]
  },
  {
   "cell_type": "code",
   "execution_count": 20,
   "id": "09c69981-1cf5-48b9-8d31-bc1576c7b720",
   "metadata": {},
   "outputs": [],
   "source": [
    "y_train_pred = optimized_rfc.predict(X_train)\n",
    "y_train_pred_proba = optimized_rfc.predict_proba(X_train)[:, 1]\n",
    "accuracy_train = round(accuracy_score(y_train, y_train_pred),3)\n",
    "roc_auc_train = round(roc_auc_score(y_train, y_train_pred_proba),3)\n",
    "recall_train = round(recall_score(y_train, y_train_pred),3)\n",
    "precision_train = round(precision_score(y_train, y_train_pred),3)"
   ]
  },
  {
   "cell_type": "code",
   "execution_count": 21,
   "id": "f4932afb-230c-4799-9a2b-12b6037d5246",
   "metadata": {},
   "outputs": [],
   "source": [
    "y_pred = optimized_rfc.predict(X_test)\n",
    "y_pred_proba = optimized_rfc.predict_proba(X_test)[:, 1]\n",
    "accuracy_test = round(accuracy_score(y_test, y_pred),2)\n",
    "roc_auc_test = round(roc_auc_score(y_test, y_pred_proba),2)\n",
    "recall_test = round(recall_score(y_test, y_pred),2)\n",
    "precision_test = round(precision_score(y_test, y_pred),2)\n",
    "tn, fp, fn, tp = confusion_matrix(y_test, y_pred).ravel()"
   ]
  },
  {
   "cell_type": "code",
   "execution_count": 22,
   "id": "0484d0a9-101c-4ee4-8ffa-967184e0b05b",
   "metadata": {},
   "outputs": [
    {
     "name": "stdout",
     "output_type": "stream",
     "text": [
      "> evaluation metrics \n",
      "\n",
      "metric                 training    testing\n",
      "roc auc                   0.738       0.67\n",
      "accuracy                  0.687       0.66\n",
      "recall                     0.64       0.56\n",
      "precision                 0.486       0.46\n",
      "\n",
      "\n"
     ]
    }
   ],
   "source": [
    "print('> evaluation metrics \\n')\n",
    "print('%-10s %20s %10s' % ('metric','training','testing'))\n",
    "print('%-10s %20s %10s' % ('roc auc', roc_auc_train, roc_auc_test))\n",
    "print('%-10s %20s %10s' % ('accuracy', accuracy_train, accuracy_test))\n",
    "print('%-10s %20s %10s' % ('recall', recall_train, recall_test))\n",
    "print('%-10s %20s %10s' % ('precision', precision_train, precision_test))\n",
    "print('\\n')"
   ]
  },
  {
   "cell_type": "code",
   "execution_count": 23,
   "id": "b27ceba0-4495-41bc-9f3c-d3ec95bb6191",
   "metadata": {},
   "outputs": [
    {
     "name": "stdout",
     "output_type": "stream",
     "text": [
      "> confusion matrix \n",
      "\n",
      "195 83 55 71\n",
      "\n",
      "\n"
     ]
    }
   ],
   "source": [
    "print('> confusion matrix \\n')\n",
    "print(tn, fp, fn, tp)\n",
    "print('\\n')"
   ]
  },
  {
   "cell_type": "code",
   "execution_count": 99,
   "id": "39af8330-7705-4474-a2a1-69add6160065",
   "metadata": {},
   "outputs": [],
   "source": [
    "fpr, tpr, _ = roc_curve(y_test, y_pred_proba)\n",
    "roc_auc = auc(fpr, tpr)"
   ]
  },
  {
   "cell_type": "code",
   "execution_count": 83,
   "id": "26d90ea9-03d1-4574-8b13-e5d6f44897ed",
   "metadata": {},
   "outputs": [],
   "source": [
    "fpr_tpr = pd.DataFrame(data=np.array([fpr, tpr]).T, columns=[\"fpr\", \"tpr\"])\n",
    "fpr_tpr.to_excel(\"fpr_tpr_.xlsx\", index=False)"
   ]
  },
  {
   "cell_type": "code",
   "execution_count": 84,
   "id": "5250ea41-c3a5-4147-9f52-2aea37f2a2c3",
   "metadata": {},
   "outputs": [],
   "source": [
    "#----  getting feature importance\n",
    "optimized_rfc_importance = optimized_rfc.best_estimator_.feature_importances_\n",
    "indices = np.argsort(-1*optimized_rfc_importance)\n",
    "rfc_feature_imp_df = pd.DataFrame(optimized_rfc_importance, index=pd.DataFrame(X_test).columns, columns=['importance'])\n",
    "rfc_feature_imp_df.sort_values(by='importance', ascending=False, inplace=True)"
   ]
  },
  {
   "cell_type": "code",
   "execution_count": 85,
   "id": "824de553-bd4e-41d1-8b4d-32b161476b19",
   "metadata": {},
   "outputs": [
    {
     "name": "stdout",
     "output_type": "stream",
     "text": [
      "> feature importance\n",
      "0.1833   (zl066)             \n",
      "0.1367   (zl121)             \n",
      "0.1233   (zl075)             \n",
      "0.1233   (zr067)             \n",
      "0.1067   (zr056)             \n",
      "0.1033   (zl054)             \n",
      "0.0833   (zr072)             \n",
      "0.0767   (zl005)             \n",
      "0.0567   (zl115)             \n",
      "0.0067   (zr113)             \n"
     ]
    }
   ],
   "source": [
    "# summarize feature importance\n",
    "print('> feature importance')\n",
    "for i in indices:\n",
    "    print('%-8s %-20s' % (round(optimized_rfc_importance[i], 4), f'({features[i]})'))"
   ]
  },
  {
   "cell_type": "code",
   "execution_count": 86,
   "id": "022e01eb-7af0-46f2-9433-51d02cb61d3a",
   "metadata": {},
   "outputs": [
    {
     "data": {
      "image/png": "[encoded data removed]",
      "text/plain": [
       "<Figure size 800x550 with 1 Axes>"
      ]
     },
     "metadata": {},
     "output_type": "display_data"
    }
   ],
   "source": [
    "# feature importance plot\n",
    "plt.style.use('seaborn')\n",
    "fig, ax = plt.subplots()\n",
    "ax.barh(range(len(indices)), optimized_rfc_importance[indices], align='center')\n",
    "ax.set_yticks(range(len(indices)))\n",
    "#ax.set_yticklabels([\"RFNL-R\", \"RFNL-L\",\"ISOS-RPE\" ], fontsize=12)\n",
    "ax.set_yticklabels([features[i] for i in indices], fontsize=12)\n",
    "ax.invert_yaxis()\n",
    "ax.set_title('Feature Importances', fontsize=18, fontweight='bold')\n",
    "ax.set_xlabel('Relative Importance', fontsize=18, fontweight='bold')\n",
    "ax.set_ylabel('Features', fontsize=18, fontweight='bold')\n",
    "ax.spines['left'].set_color('black')\n",
    "ax.spines['left'].set_linewidth(2)\n",
    "ax.spines['bottom'].set_color('black')\n",
    "ax.spines['bottom'].set_linewidth(2)\n",
    "ax.grid(True)\n",
    "#fig.savefig('feature_importance_plot.png')"
   ]
  },
  {
   "cell_type": "code",
   "execution_count": 145,
   "id": "1257102c-9d9f-4b02-a9d0-5955f524ac46",
   "metadata": {},
   "outputs": [
    {
     "data": {
      "image/png": "[encoded data removed]",
      "text/plain": [
       "<Figure size 800x550 with 1 Axes>"
      ]
     },
     "metadata": {},
     "output_type": "display_data"
    }
   ],
   "source": [
    "# ROC curve\n",
    "# print(plt.style.available)\n",
    "plt.style.use('seaborn')\n",
    "fig, ax = plt.subplots()\n",
    "ax.plot(fpr, tpr)\n",
    "ax.plot([0, 1], [0, 1], linestyle='--', lw=2, color='r', label='Chance', alpha=.8)\n",
    "ax.set_title('ROC Curve (auc = %0.3f)' % roc_auc, fontsize=22, fontweight='bold')\n",
    "ax.set_xlabel('False Positive Rate', fontsize=16, fontweight='bold')\n",
    "ax.set_ylabel('True Positive Rate', fontsize=16, fontweight='bold')\n",
    "ax.spines['left'].set_color('black')\n",
    "ax.spines['left'].set_linewidth(2)\n",
    "ax.spines['bottom'].set_color('black')\n",
    "ax.spines['bottom'].set_linewidth(2)\n",
    "ax.grid(True)"
   ]
  },
  {
   "cell_type": "code",
   "execution_count": null,
   "id": "333ecb49-8120-4c14-bb8e-92dbcf57c8cd",
   "metadata": {},
   "outputs": [],
   "source": []
  }
 ],
 "metadata": {
  "kernelspec": {
   "display_name": "Python 3 (ipykernel)",
   "language": "python",
   "name": "python3"
  },
  "language_info": {
   "codemirror_mode": {
    "name": "ipython",
    "version": 3
   },
   "file_extension": ".py",
   "mimetype": "text/x-python",
   "name": "python",
   "nbconvert_exporter": "python",
   "pygments_lexer": "ipython3",
   "version": "3.9.6"
  }
 },
 "nbformat": 4,
 "nbformat_minor": 5
}
