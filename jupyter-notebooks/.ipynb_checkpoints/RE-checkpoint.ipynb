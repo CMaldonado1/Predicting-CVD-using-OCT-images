{
 "cells": [
  {
   "cell_type": "code",
   "execution_count": 2,
   "id": "b611d349-a6d0-4aa5-bb73-51b999782147",
   "metadata": {},
   "outputs": [],
   "source": [
    "import torch\n",
    "import numpy as np\n",
    "import pandas as pd\n",
    "import torchvision.transforms.functional as F\n",
    "import torchvision.transforms as transforms\n",
    "import matplotlib.pyplot as plt\n",
    "import torchvision.transforms as transforms\n",
    "from sklearn.decomposition import PCA\n",
    "import torchvision.transforms as T\n",
    "from oct_ml_vae_fc import VAE_OCT, classifier_oct, VAE_classifier_OCT  #_class\n",
    "from pl_datamodule_vae_fc import OCT_DM, MM\n",
    "from sklearn import preprocessing\n",
    "import torch.nn as nn\n",
    "from captum.attr import Occlusion, IntegratedGradients, LayerConductance\n",
    "from sklearn.feature_selection import RFE\n",
    "from sklearn.ensemble import RandomForestClassifier\n",
    "import sklearn.model_selection as skms\n",
    "from sklearn.metrics import accuracy_score, precision_score, recall_score, roc_auc_score, confusion_matrix, roc_curve, auc"
   ]
  },
  {
   "cell_type": "code",
   "execution_count": 3,
   "id": "df0d55e0-2043-4706-9cd4-682a689fad58",
   "metadata": {},
   "outputs": [],
   "source": [
    "random_seed = 295471\n",
    "test_size = 0.2\n",
    "train_size = 1-test_size"
   ]
  },
  {
   "cell_type": "code",
   "execution_count": 4,
   "id": "870c2165-2517-4a33-8fb5-69385f41a30f",
   "metadata": {},
   "outputs": [],
   "source": [
    "zs_be = pd.read_excel('zs_be_mtdt.xlsx')\n",
    "selected_columns = ['ID', 'Vascular'] + [f\"zr{i:03d}\" for i in range(128)]\n",
    "zs_re = zs_be[selected_columns]\n",
    "X = zs_re.drop(['Vascular','ID'], axis=1)\n",
    "y = zs_re['Vascular']"
   ]
  },
  {
   "cell_type": "code",
   "execution_count": 5,
   "id": "305cc014-e541-47de-9583-8e9f6233e880",
   "metadata": {},
   "outputs": [],
   "source": [
    "new_test_set = pd.read_excel('../new_test_set/new_test_set_1.xlsx')\n",
    "selected_columns2 = ['IDs', 'Vascular'] + [f\"zr{i:03d}\" for i in range(128)]\n",
    "zs_le_test = new_test_set[selected_columns2]\n",
    "X_t = zs_le_test.drop(['Vascular','IDs'], axis=1)\n",
    "y_t = zs_le_test['Vascular']"
   ]
  },
  {
   "cell_type": "code",
   "execution_count": 6,
   "id": "32e943a6-4c06-4d78-9b07-f6d6b7a0221f",
   "metadata": {},
   "outputs": [
    {
     "name": "stderr",
     "output_type": "stream",
     "text": [
      "/tmp/ipykernel_837671/775141070.py:1: FutureWarning: The frame.append method is deprecated and will be removed from pandas in a future version. Use pandas.concat instead.\n",
      "  x_train = X.append(X_t)\n",
      "/tmp/ipykernel_837671/775141070.py:2: FutureWarning: The series.append method is deprecated and will be removed from pandas in a future version. Use pandas.concat instead.\n",
      "  y_train = y.append(y_t)\n"
     ]
    }
   ],
   "source": [
    "x_train = X.append(X_t)\n",
    "y_train = y.append(y_t)"
   ]
  },
  {
   "cell_type": "code",
   "execution_count": 7,
   "id": "007fef4e-f2b6-4d46-9aa2-13110443f57a",
   "metadata": {},
   "outputs": [],
   "source": [
    "rf_classifier = RandomForestClassifier()\n",
    "rfe = RFE(estimator=rf_classifier, n_features_to_select=10)"
   ]
  },
  {
   "cell_type": "code",
   "execution_count": 8,
   "id": "1ec1cf7a-3d44-4e55-afd6-9a02188fec96",
   "metadata": {},
   "outputs": [],
   "source": [
    "X_selected = rfe.fit_transform(x_train, y_train)\n",
    "selected_features = X.columns[rfe.support_]"
   ]
  },
  {
   "cell_type": "code",
   "execution_count": 4,
   "id": "f5898f9d-3108-402a-8b62-e8f86e7e55eb",
   "metadata": {
    "scrolled": true
   },
   "outputs": [],
   "source": [
    "X_selected = X[['zr002', 'zr007', 'zr063', 'zr067', 'zr072']]"
   ]
  },
  {
   "cell_type": "code",
   "execution_count": 177,
   "id": "55b73c49-d772-4bab-8da4-81bbd604af9e",
   "metadata": {},
   "outputs": [],
   "source": [
    "adasyn = ADASYN(random_state=random_seed)\n",
    "X_train_oversampled, y_train_oversampled = adasyn.fit_resample(X_selected, y)"
   ]
  },
  {
   "cell_type": "code",
   "execution_count": 28,
   "id": "1eeeac81-2d34-4ea9-8bb6-d91522b1b144",
   "metadata": {},
   "outputs": [],
   "source": [
    "sm = SMOTE()\n",
    "X_res, y_res = sm.fit_resample(X_selected, y)"
   ]
  },
  {
   "cell_type": "code",
   "execution_count": 5,
   "id": "885ad32a-383f-4bdb-b98b-5bc6dbd68b60",
   "metadata": {},
   "outputs": [
    {
     "data": {
      "text/plain": [
       "(1224, 5)"
      ]
     },
     "execution_count": 5,
     "metadata": {},
     "output_type": "execute_result"
    }
   ],
   "source": [
    "X_selected.shape"
   ]
  },
  {
   "cell_type": "code",
   "execution_count": 178,
   "id": "074e65ec-1a2d-4496-814c-71e361bbd574",
   "metadata": {},
   "outputs": [
    {
     "data": {
      "text/plain": [
       "(1224, 10)"
      ]
     },
     "execution_count": 178,
     "metadata": {},
     "output_type": "execute_result"
    }
   ],
   "source": [
    "X_train_oversampled.shape"
   ]
  },
  {
   "cell_type": "code",
   "execution_count": 30,
   "id": "94d8136e-df3f-4226-9920-0011e743b92a",
   "metadata": {},
   "outputs": [
    {
     "data": {
      "text/plain": [
       "(1224, 10)"
      ]
     },
     "execution_count": 30,
     "metadata": {},
     "output_type": "execute_result"
    }
   ],
   "source": [
    "X_res.shape"
   ]
  },
  {
   "cell_type": "code",
   "execution_count": 9,
   "id": "1d9d9bdd-1235-4aa2-9223-c81ac4c4c2f5",
   "metadata": {},
   "outputs": [],
   "source": [
    "X_train, X_test, y_train, y_test = skms.train_test_split(X_selected, y_train, test_size=test_size, random_state=random_seed)\n",
    "X_train_rows, y_train_rows = X_train.shape[0], y_train.shape[0]\n",
    "X_test_rows, y_test_rows = X_test.shape[0], y_test.shape[0]\n",
    "train_rows, test_rows = -1, -1"
   ]
  },
  {
   "cell_type": "code",
   "execution_count": 10,
   "id": "216218cd-c3c4-47e9-b722-925a620b9453",
   "metadata": {},
   "outputs": [],
   "source": [
    "if X_train_rows == y_train_rows:\n",
    "    train_rows = X_train_rows\n",
    "\n",
    "if X_test_rows == y_test_rows:\n",
    "    test_rows = X_test_rows"
   ]
  },
  {
   "cell_type": "code",
   "execution_count": 8,
   "id": "868644b4-4595-45bd-bd24-4769eb78f63b",
   "metadata": {},
   "outputs": [],
   "source": [
    "features = X_selected.columns.tolist()"
   ]
  },
  {
   "cell_type": "code",
   "execution_count": 11,
   "id": "90067b8d-b7e4-4e12-9600-18fc433f3729",
   "metadata": {},
   "outputs": [
    {
     "name": "stdout",
     "output_type": "stream",
     "text": [
      "1126\n",
      "486\n"
     ]
    }
   ],
   "source": [
    "print(len(y_train[y_train==0]))\n",
    "print(len(y_train[y_train==1]))"
   ]
  },
  {
   "cell_type": "code",
   "execution_count": 13,
   "id": "a6c8d1a8-5cca-42b6-8cd7-cc38fe0ed140",
   "metadata": {},
   "outputs": [],
   "source": [
    "#----  random forest training with hyperparameter tuning\n",
    "random_grid = {'n_estimators': [5,8,9],\n",
    "               'criterion': ['gini', 'entropy'],\n",
    "               'max_features': [0.25, 0.50, 0.75],\n",
    "               'max_depth': [2],\n",
    "               'min_samples_split': [3,7,10],\n",
    "               'min_samples_leaf': [3,7,10],\n",
    "               'bootstrap': [True, False],\n",
    "               'class_weight': ['balanced'],\n",
    "               'random_state': [random_seed]}"
   ]
  },
  {
   "cell_type": "code",
   "execution_count": 14,
   "id": "0f0179af-8504-42ea-9d29-84765a355075",
   "metadata": {},
   "outputs": [
    {
     "name": "stdout",
     "output_type": "stream",
     "text": [
      "> Random Forest classifier...\n"
     ]
    }
   ],
   "source": [
    "print('> Random Forest classifier...')\n",
    "optimized_rfc = skms.RandomizedSearchCV(estimator = RandomForestClassifier(), \n",
    "                                        param_distributions = random_grid, \n",
    "                                        n_iter = 200, \n",
    "                                        cv = 5, \n",
    "                                        scoring=['roc_auc'],\n",
    "                                        refit ='roc_auc',\n",
    "                                        verbose=1, \n",
    "                                        n_jobs = -1,\n",
    "                                        random_state = random_seed, \n",
    "                                        return_train_score= True)"
   ]
  },
  {
   "cell_type": "code",
   "execution_count": 15,
   "id": "9a6dc620-09cc-4efa-addb-a6491610c62a",
   "metadata": {},
   "outputs": [
    {
     "name": "stdout",
     "output_type": "stream",
     "text": [
      "Fitting 5 folds for each of 200 candidates, totalling 1000 fits\n",
      "\n",
      "\n"
     ]
    }
   ],
   "source": [
    "optimized_rfc.fit(X_train, np.ravel(y_train))\n",
    "print('\\n')"
   ]
  },
  {
   "cell_type": "code",
   "execution_count": 16,
   "id": "4681c1a8-1c87-4f60-86c1-b1ff27ef19f8",
   "metadata": {},
   "outputs": [],
   "source": [
    "#----  obtaining results of the grid run\n",
    "cv_results = optimized_rfc.cv_results_\n",
    "cv_results_df = pd.DataFrame(cv_results)"
   ]
  },
  {
   "cell_type": "code",
   "execution_count": 17,
   "id": "6d159956-ddf4-483a-a50c-514f0045951d",
   "metadata": {},
   "outputs": [
    {
     "data": {
      "text/html": [
       "<div>\n",
       "<style scoped>\n",
       "    .dataframe tbody tr th:only-of-type {\n",
       "        vertical-align: middle;\n",
       "    }\n",
       "\n",
       "    .dataframe tbody tr th {\n",
       "        vertical-align: top;\n",
       "    }\n",
       "\n",
       "    .dataframe thead th {\n",
       "        text-align: right;\n",
       "    }\n",
       "</style>\n",
       "<table border=\"1\" class=\"dataframe\">\n",
       "  <thead>\n",
       "    <tr style=\"text-align: right;\">\n",
       "      <th></th>\n",
       "      <th>split0_test_roc_auc</th>\n",
       "      <th>split1_test_roc_auc</th>\n",
       "      <th>split2_test_roc_auc</th>\n",
       "      <th>mean_test_roc_auc</th>\n",
       "      <th>std_test_roc_auc</th>\n",
       "      <th>rank_test_roc_auc</th>\n",
       "    </tr>\n",
       "  </thead>\n",
       "  <tbody>\n",
       "    <tr>\n",
       "      <th>195</th>\n",
       "      <td>0.619264</td>\n",
       "      <td>0.641134</td>\n",
       "      <td>0.623688</td>\n",
       "      <td>0.628148</td>\n",
       "      <td>0.008005</td>\n",
       "      <td>1</td>\n",
       "    </tr>\n",
       "    <tr>\n",
       "      <th>57</th>\n",
       "      <td>0.619264</td>\n",
       "      <td>0.641134</td>\n",
       "      <td>0.623688</td>\n",
       "      <td>0.628148</td>\n",
       "      <td>0.008005</td>\n",
       "      <td>1</td>\n",
       "    </tr>\n",
       "    <tr>\n",
       "      <th>189</th>\n",
       "      <td>0.620609</td>\n",
       "      <td>0.639274</td>\n",
       "      <td>0.623688</td>\n",
       "      <td>0.628045</td>\n",
       "      <td>0.007119</td>\n",
       "      <td>3</td>\n",
       "    </tr>\n",
       "    <tr>\n",
       "      <th>168</th>\n",
       "      <td>0.620609</td>\n",
       "      <td>0.639274</td>\n",
       "      <td>0.623688</td>\n",
       "      <td>0.628045</td>\n",
       "      <td>0.007119</td>\n",
       "      <td>3</td>\n",
       "    </tr>\n",
       "    <tr>\n",
       "      <th>122</th>\n",
       "      <td>0.620609</td>\n",
       "      <td>0.639274</td>\n",
       "      <td>0.623688</td>\n",
       "      <td>0.628045</td>\n",
       "      <td>0.007119</td>\n",
       "      <td>3</td>\n",
       "    </tr>\n",
       "    <tr>\n",
       "      <th>...</th>\n",
       "      <td>...</td>\n",
       "      <td>...</td>\n",
       "      <td>...</td>\n",
       "      <td>...</td>\n",
       "      <td>...</td>\n",
       "      <td>...</td>\n",
       "    </tr>\n",
       "    <tr>\n",
       "      <th>3</th>\n",
       "      <td>0.610779</td>\n",
       "      <td>0.610454</td>\n",
       "      <td>0.582932</td>\n",
       "      <td>0.580247</td>\n",
       "      <td>0.029801</td>\n",
       "      <td>195</td>\n",
       "    </tr>\n",
       "    <tr>\n",
       "      <th>95</th>\n",
       "      <td>0.610779</td>\n",
       "      <td>0.610454</td>\n",
       "      <td>0.581695</td>\n",
       "      <td>0.579999</td>\n",
       "      <td>0.029783</td>\n",
       "      <td>197</td>\n",
       "    </tr>\n",
       "    <tr>\n",
       "      <th>4</th>\n",
       "      <td>0.610779</td>\n",
       "      <td>0.610454</td>\n",
       "      <td>0.581695</td>\n",
       "      <td>0.579999</td>\n",
       "      <td>0.029783</td>\n",
       "      <td>197</td>\n",
       "    </tr>\n",
       "    <tr>\n",
       "      <th>74</th>\n",
       "      <td>0.610779</td>\n",
       "      <td>0.610454</td>\n",
       "      <td>0.581695</td>\n",
       "      <td>0.579999</td>\n",
       "      <td>0.029783</td>\n",
       "      <td>197</td>\n",
       "    </tr>\n",
       "    <tr>\n",
       "      <th>153</th>\n",
       "      <td>0.610779</td>\n",
       "      <td>0.610454</td>\n",
       "      <td>0.582932</td>\n",
       "      <td>0.578542</td>\n",
       "      <td>0.032645</td>\n",
       "      <td>200</td>\n",
       "    </tr>\n",
       "  </tbody>\n",
       "</table>\n",
       "<p>200 rows × 6 columns</p>\n",
       "</div>"
      ],
      "text/plain": [
       "     split0_test_roc_auc  split1_test_roc_auc  split2_test_roc_auc  \\\n",
       "195             0.619264             0.641134             0.623688   \n",
       "57              0.619264             0.641134             0.623688   \n",
       "189             0.620609             0.639274             0.623688   \n",
       "168             0.620609             0.639274             0.623688   \n",
       "122             0.620609             0.639274             0.623688   \n",
       "..                   ...                  ...                  ...   \n",
       "3               0.610779             0.610454             0.582932   \n",
       "95              0.610779             0.610454             0.581695   \n",
       "4               0.610779             0.610454             0.581695   \n",
       "74              0.610779             0.610454             0.581695   \n",
       "153             0.610779             0.610454             0.582932   \n",
       "\n",
       "     mean_test_roc_auc  std_test_roc_auc  rank_test_roc_auc  \n",
       "195           0.628148          0.008005                  1  \n",
       "57            0.628148          0.008005                  1  \n",
       "189           0.628045          0.007119                  3  \n",
       "168           0.628045          0.007119                  3  \n",
       "122           0.628045          0.007119                  3  \n",
       "..                 ...               ...                ...  \n",
       "3             0.580247          0.029801                195  \n",
       "95            0.579999          0.029783                197  \n",
       "4             0.579999          0.029783                197  \n",
       "74            0.579999          0.029783                197  \n",
       "153           0.578542          0.032645                200  \n",
       "\n",
       "[200 rows x 6 columns]"
      ]
     },
     "execution_count": 17,
     "metadata": {},
     "output_type": "execute_result"
    }
   ],
   "source": [
    "cv_results_df[['split0_test_roc_auc', 'split1_test_roc_auc', 'split2_test_roc_auc', 'mean_test_roc_auc', 'std_test_roc_auc', 'rank_test_roc_auc']].sort_values(by ='rank_test_roc_auc')"
   ]
  },
  {
   "cell_type": "code",
   "execution_count": 18,
   "id": "1a235387-faa9-4e49-8c31-9ba7155ffd98",
   "metadata": {},
   "outputs": [
    {
     "data": {
      "text/html": [
       "<div>\n",
       "<style scoped>\n",
       "    .dataframe tbody tr th:only-of-type {\n",
       "        vertical-align: middle;\n",
       "    }\n",
       "\n",
       "    .dataframe tbody tr th {\n",
       "        vertical-align: top;\n",
       "    }\n",
       "\n",
       "    .dataframe thead th {\n",
       "        text-align: right;\n",
       "    }\n",
       "</style>\n",
       "<table border=\"1\" class=\"dataframe\">\n",
       "  <thead>\n",
       "    <tr style=\"text-align: right;\">\n",
       "      <th></th>\n",
       "      <th>mean_train_roc_auc</th>\n",
       "      <th>mean_test_roc_auc</th>\n",
       "      <th>rank_test_roc_auc</th>\n",
       "    </tr>\n",
       "  </thead>\n",
       "  <tbody>\n",
       "    <tr>\n",
       "      <th>195</th>\n",
       "      <td>0.692418</td>\n",
       "      <td>0.628148</td>\n",
       "      <td>1</td>\n",
       "    </tr>\n",
       "    <tr>\n",
       "      <th>57</th>\n",
       "      <td>0.692418</td>\n",
       "      <td>0.628148</td>\n",
       "      <td>1</td>\n",
       "    </tr>\n",
       "    <tr>\n",
       "      <th>189</th>\n",
       "      <td>0.692359</td>\n",
       "      <td>0.628045</td>\n",
       "      <td>3</td>\n",
       "    </tr>\n",
       "    <tr>\n",
       "      <th>168</th>\n",
       "      <td>0.692359</td>\n",
       "      <td>0.628045</td>\n",
       "      <td>3</td>\n",
       "    </tr>\n",
       "    <tr>\n",
       "      <th>122</th>\n",
       "      <td>0.692359</td>\n",
       "      <td>0.628045</td>\n",
       "      <td>3</td>\n",
       "    </tr>\n",
       "    <tr>\n",
       "      <th>...</th>\n",
       "      <td>...</td>\n",
       "      <td>...</td>\n",
       "      <td>...</td>\n",
       "    </tr>\n",
       "    <tr>\n",
       "      <th>3</th>\n",
       "      <td>0.672439</td>\n",
       "      <td>0.580247</td>\n",
       "      <td>195</td>\n",
       "    </tr>\n",
       "    <tr>\n",
       "      <th>95</th>\n",
       "      <td>0.672617</td>\n",
       "      <td>0.579999</td>\n",
       "      <td>197</td>\n",
       "    </tr>\n",
       "    <tr>\n",
       "      <th>4</th>\n",
       "      <td>0.672617</td>\n",
       "      <td>0.579999</td>\n",
       "      <td>197</td>\n",
       "    </tr>\n",
       "    <tr>\n",
       "      <th>74</th>\n",
       "      <td>0.672617</td>\n",
       "      <td>0.579999</td>\n",
       "      <td>197</td>\n",
       "    </tr>\n",
       "    <tr>\n",
       "      <th>153</th>\n",
       "      <td>0.672117</td>\n",
       "      <td>0.578542</td>\n",
       "      <td>200</td>\n",
       "    </tr>\n",
       "  </tbody>\n",
       "</table>\n",
       "<p>200 rows × 3 columns</p>\n",
       "</div>"
      ],
      "text/plain": [
       "     mean_train_roc_auc  mean_test_roc_auc  rank_test_roc_auc\n",
       "195            0.692418           0.628148                  1\n",
       "57             0.692418           0.628148                  1\n",
       "189            0.692359           0.628045                  3\n",
       "168            0.692359           0.628045                  3\n",
       "122            0.692359           0.628045                  3\n",
       "..                  ...                ...                ...\n",
       "3              0.672439           0.580247                195\n",
       "95             0.672617           0.579999                197\n",
       "4              0.672617           0.579999                197\n",
       "74             0.672617           0.579999                197\n",
       "153            0.672117           0.578542                200\n",
       "\n",
       "[200 rows x 3 columns]"
      ]
     },
     "execution_count": 18,
     "metadata": {},
     "output_type": "execute_result"
    }
   ],
   "source": [
    "cv_results_df[['mean_train_roc_auc', 'mean_test_roc_auc', 'rank_test_roc_auc']].sort_values(by ='rank_test_roc_auc')"
   ]
  },
  {
   "cell_type": "code",
   "execution_count": 19,
   "id": "5ff56e18-07fc-42c1-902e-afb3342f0f3b",
   "metadata": {},
   "outputs": [
    {
     "name": "stdout",
     "output_type": "stream",
     "text": [
      "> best hyperparameters = {'random_state': 295471, 'n_estimators': 9, 'min_samples_split': 10, 'min_samples_leaf': 3, 'max_features': 0.75, 'max_depth': 2, 'criterion': 'gini', 'class_weight': 'balanced', 'bootstrap': True}\n",
      "> best cv score = 0.6281482365533873 \n",
      "\n"
     ]
    }
   ],
   "source": [
    "best_params = optimized_rfc.best_params_\n",
    "best_score = optimized_rfc.best_score_\n",
    "print(f'> best hyperparameters = {best_params}')\n",
    "print(f'> best cv score = {best_score} \\n')"
   ]
  },
  {
   "cell_type": "code",
   "execution_count": 20,
   "id": "09c69981-1cf5-48b9-8d31-bc1576c7b720",
   "metadata": {},
   "outputs": [],
   "source": [
    "y_train_pred = optimized_rfc.predict(X_train)\n",
    "y_train_pred_proba = optimized_rfc.predict_proba(X_train)[:, 1]\n",
    "accuracy_train = round(accuracy_score(y_train, y_train_pred),3)\n",
    "roc_auc_train = round(roc_auc_score(y_train, y_train_pred_proba),3)\n",
    "recall_train = round(recall_score(y_train, y_train_pred),3)\n",
    "precision_train = round(precision_score(y_train, y_train_pred),3)"
   ]
  },
  {
   "cell_type": "code",
   "execution_count": 21,
   "id": "f4932afb-230c-4799-9a2b-12b6037d5246",
   "metadata": {},
   "outputs": [],
   "source": [
    "y_pred = optimized_rfc.predict(X_test)\n",
    "y_pred_proba = optimized_rfc.predict_proba(X_test)[:, 1]\n",
    "accuracy_test = round(accuracy_score(y_test, y_pred),2)\n",
    "roc_auc_test = round(roc_auc_score(y_test, y_pred_proba),2)\n",
    "recall_test = round(recall_score(y_test, y_pred),2)\n",
    "precision_test = round(precision_score(y_test, y_pred),2)\n",
    "tn, fp, fn, tp = confusion_matrix(y_test, y_pred).ravel()"
   ]
  },
  {
   "cell_type": "code",
   "execution_count": 22,
   "id": "0484d0a9-101c-4ee4-8ffa-967184e0b05b",
   "metadata": {},
   "outputs": [
    {
     "name": "stdout",
     "output_type": "stream",
     "text": [
      "> evaluation metrics \n",
      "\n",
      "metric                 training    testing\n",
      "roc auc                   0.681       0.62\n",
      "accuracy                  0.646       0.58\n",
      "recall                    0.611       0.48\n",
      "precision                 0.437       0.37\n",
      "\n",
      "\n"
     ]
    }
   ],
   "source": [
    "print('> evaluation metrics \\n')\n",
    "print('%-10s %20s %10s' % ('metric','training','testing'))\n",
    "print('%-10s %20s %10s' % ('roc auc', roc_auc_train, roc_auc_test))\n",
    "print('%-10s %20s %10s' % ('accuracy', accuracy_train, accuracy_test))\n",
    "print('%-10s %20s %10s' % ('recall', recall_train, recall_test))\n",
    "print('%-10s %20s %10s' % ('precision', precision_train, precision_test))\n",
    "print('\\n')"
   ]
  },
  {
   "cell_type": "code",
   "execution_count": 22,
   "id": "39af8330-7705-4474-a2a1-69add6160065",
   "metadata": {},
   "outputs": [],
   "source": [
    "fpr, tpr, _ = roc_curve(y_test, y_pred_proba)\n",
    "roc_auc = auc(fpr, tpr)"
   ]
  },
  {
   "cell_type": "code",
   "execution_count": 23,
   "id": "09a22826-d65b-4af8-8af8-e685f612238f",
   "metadata": {},
   "outputs": [],
   "source": [
    "fpr_tpr = pd.DataFrame(data=np.array([fpr, tpr]).T, columns=[\"fpr\", \"tpr\"])\n",
    "fpr_tpr.to_excel(\"fpr_tpr_re.xlsx\", index=False)"
   ]
  },
  {
   "cell_type": "code",
   "execution_count": 23,
   "id": "a1802c9f-d683-45db-a3bf-994a3fb39726",
   "metadata": {},
   "outputs": [
    {
     "data": {
      "text/plain": [
       "(173, 105, 65, 61)"
      ]
     },
     "execution_count": 23,
     "metadata": {},
     "output_type": "execute_result"
    }
   ],
   "source": [
    "tn, fp, fn, tp"
   ]
  },
  {
   "cell_type": "code",
   "execution_count": null,
   "id": "12f5c98a-7b04-4d3a-b9ff-2c66c81cdd8d",
   "metadata": {},
   "outputs": [],
   "source": [
    "fpr_tpr = pd.DataFrame(data=np.array([fpr, tpr]).T, columns=[\"fpr\", \"tpr\"])\n",
    "fpr_tpr.to_excel(\"fpr_tpr_re.xlsx\", index=False)"
   ]
  },
  {
   "cell_type": "code",
   "execution_count": 639,
   "id": "5250ea41-c3a5-4147-9f52-2aea37f2a2c3",
   "metadata": {},
   "outputs": [],
   "source": [
    "#----  getting feature importance\n",
    "optimized_rfc_importance = optimized_rfc.best_estimator_.feature_importances_\n",
    "indices = np.argsort(-1*optimized_rfc_importance)\n",
    "rfc_feature_imp_df = pd.DataFrame(optimized_rfc_importance, index=pd.DataFrame(X_test).columns, columns=['importance'])\n",
    "rfc_feature_imp_df.sort_values(by='importance', ascending=False, inplace=True)"
   ]
  },
  {
   "cell_type": "code",
   "execution_count": 24,
   "id": "824de553-bd4e-41d1-8b4d-32b161476b19",
   "metadata": {},
   "outputs": [
    {
     "name": "stdout",
     "output_type": "stream",
     "text": [
      "> feature importance\n"
     ]
    },
    {
     "ename": "NameError",
     "evalue": "name 'indices' is not defined",
     "output_type": "error",
     "traceback": [
      "\u001b[0;31m---------------------------------------------------------------------------\u001b[0m",
      "\u001b[0;31mNameError\u001b[0m                                 Traceback (most recent call last)",
      "Cell \u001b[0;32mIn[24], line 3\u001b[0m\n\u001b[1;32m      1\u001b[0m \u001b[38;5;66;03m# summarize feature importance\u001b[39;00m\n\u001b[1;32m      2\u001b[0m \u001b[38;5;28mprint\u001b[39m(\u001b[38;5;124m'\u001b[39m\u001b[38;5;124m> feature importance\u001b[39m\u001b[38;5;124m'\u001b[39m)\n\u001b[0;32m----> 3\u001b[0m \u001b[38;5;28;01mfor\u001b[39;00m i \u001b[38;5;129;01min\u001b[39;00m \u001b[43mindices\u001b[49m:\n\u001b[1;32m      4\u001b[0m     \u001b[38;5;28mprint\u001b[39m(\u001b[38;5;124m'\u001b[39m\u001b[38;5;132;01m%-8s\u001b[39;00m\u001b[38;5;124m \u001b[39m\u001b[38;5;132;01m%-20s\u001b[39;00m\u001b[38;5;124m'\u001b[39m \u001b[38;5;241m%\u001b[39m (\u001b[38;5;28mround\u001b[39m(optimized_rfc_importance[i], \u001b[38;5;241m4\u001b[39m), \u001b[38;5;124mf\u001b[39m\u001b[38;5;124m'\u001b[39m\u001b[38;5;124m(\u001b[39m\u001b[38;5;132;01m{\u001b[39;00mselected_features[i]\u001b[38;5;132;01m}\u001b[39;00m\u001b[38;5;124m)\u001b[39m\u001b[38;5;124m'\u001b[39m))\n",
      "\u001b[0;31mNameError\u001b[0m: name 'indices' is not defined"
     ]
    }
   ],
   "source": [
    "# summarize feature importance\n",
    "print('> feature importance')\n",
    "for i in indices:\n",
    "    print('%-8s %-20s' % (round(optimized_rfc_importance[i], 4), f'({selected_features[i]})'))"
   ]
  },
  {
   "cell_type": "code",
   "execution_count": 641,
   "id": "022e01eb-7af0-46f2-9433-51d02cb61d3a",
   "metadata": {},
   "outputs": [
    {
     "data": {
      "image/png": "[encoded data removed]",
      "text/plain": [
       "<Figure size 800x550 with 1 Axes>"
      ]
     },
     "metadata": {},
     "output_type": "display_data"
    }
   ],
   "source": [
    "# feature importance plot\n",
    "plt.style.use('seaborn')\n",
    "fig, ax = plt.subplots()\n",
    "ax.barh(range(len(indices[:25])), optimized_rfc_importance[indices[:25]], align='center')\n",
    "ax.set_yticks(range(len(indices[:25])))\n",
    "#ax.set_yticklabels([\"RFNL-R\", \"RFNL-L\",\"ISOS-RPE\" ], fontsize=12)\n",
    "ax.set_yticklabels([selected_features[i] for i in indices[:25]], fontsize=12)\n",
    "ax.invert_yaxis()\n",
    "ax.set_title('Feature Importances', fontsize=18, fontweight='bold')\n",
    "ax.set_xlabel('Relative Importance', fontsize=18, fontweight='bold')\n",
    "ax.set_ylabel('Features', fontsize=18, fontweight='bold')\n",
    "ax.spines['left'].set_color('black')\n",
    "ax.spines['left'].set_linewidth(2)\n",
    "ax.spines['bottom'].set_color('black')\n",
    "ax.spines['bottom'].set_linewidth(2)\n",
    "ax.grid(True)\n",
    "#fig.savefig('feature_importance_plot.png')"
   ]
  },
  {
   "cell_type": "code",
   "execution_count": null,
   "id": "1257102c-9d9f-4b02-a9d0-5955f524ac46",
   "metadata": {},
   "outputs": [],
   "source": []
  },
  {
   "cell_type": "code",
   "execution_count": null,
   "id": "333ecb49-8120-4c14-bb8e-92dbcf57c8cd",
   "metadata": {},
   "outputs": [],
   "source": []
  }
 ],
 "metadata": {
  "kernelspec": {
   "display_name": "Python 3 (ipykernel)",
   "language": "python",
   "name": "python3"
  },
  "language_info": {
   "codemirror_mode": {
    "name": "ipython",
    "version": 3
   },
   "file_extension": ".py",
   "mimetype": "text/x-python",
   "name": "python",
   "nbconvert_exporter": "python",
   "pygments_lexer": "ipython3",
   "version": "3.9.6"
  }
 },
 "nbformat": 4,
 "nbformat_minor": 5
}
