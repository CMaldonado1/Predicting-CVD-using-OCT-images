{
 "cells": [
  {
   "cell_type": "code",
   "execution_count": 3,
   "id": "b611d349-a6d0-4aa5-bb73-51b999782147",
   "metadata": {},
   "outputs": [],
   "source": [
    "import torch\n",
    "import numpy as np\n",
    "import pandas as pd\n",
    "import torchvision.transforms.functional as F\n",
    "import torchvision.transforms as transforms\n",
    "import matplotlib.pyplot as plt\n",
    "import torchvision.transforms as transforms\n",
    "from sklearn.decomposition import PCA\n",
    "import torchvision.transforms as T\n",
    "from oct_ml_vae_fc import VAE_OCT, classifier_oct, VAE_classifier_OCT  #_class\n",
    "from pl_datamodule_vae_fc import OCT_DM, MM\n",
    "from sklearn import preprocessing\n",
    "import torch.nn as nn\n",
    "from captum.attr import Occlusion, IntegratedGradients, LayerConductance\n",
    "from sklearn.feature_selection import RFE\n",
    "from sklearn.ensemble import RandomForestClassifier\n",
    "import sklearn.model_selection as skms\n",
    "from sklearn.metrics import accuracy_score, precision_score, recall_score, roc_auc_score, confusion_matrix, roc_curve, auc"
   ]
  },
  {
   "cell_type": "code",
   "execution_count": 4,
   "id": "df0d55e0-2043-4706-9cd4-682a689fad58",
   "metadata": {},
   "outputs": [],
   "source": [
    "random_seed = 295471\n",
    "test_size = 0.2\n",
    "train_size = 1-test_size"
   ]
  },
  {
   "cell_type": "code",
   "execution_count": 5,
   "id": "870c2165-2517-4a33-8fb5-69385f41a30f",
   "metadata": {},
   "outputs": [],
   "source": [
    "zs_be_md = pd.read_excel('zs_be_mtdt.xlsx')\n",
    "selected_columns = ['ID', 'Vascular'] + [f\"zl{i:03d}\" for i in range(128)]\n",
    "X = zs_be_md.drop(selected_columns, axis=1)\n",
    "y = zs_be_md['Vascular']"
   ]
  },
  {
   "cell_type": "code",
   "execution_count": 35,
   "id": "acf52ffc-cbef-4a80-86fe-171c617e84c0",
   "metadata": {},
   "outputs": [],
   "source": [
    "new_test_set = pd.read_excel('../new_test_set/new_test_set_1.xlsx')\n",
    "selected_columns2 = ['IDs', 'Vascular'] + [f\"zl{i:03d}\" for i in range(128)]\n",
    "X_t = new_test_set.drop(selected_columns2, axis=1)\n",
    "y_t = new_test_set['Vascular']"
   ]
  },
  {
   "cell_type": "code",
   "execution_count": 67,
   "id": "8d89caad-31c7-409a-92f1-c227f1f69d56",
   "metadata": {},
   "outputs": [
    {
     "name": "stderr",
     "output_type": "stream",
     "text": [
      "/tmp/ipykernel_836159/775141070.py:1: FutureWarning: The frame.append method is deprecated and will be removed from pandas in a future version. Use pandas.concat instead.\n",
      "  x_train = X.append(X_t)\n",
      "/tmp/ipykernel_836159/775141070.py:2: FutureWarning: The series.append method is deprecated and will be removed from pandas in a future version. Use pandas.concat instead.\n",
      "  y_train = y.append(y_t)\n"
     ]
    }
   ],
   "source": [
    "x_train = X.append(X_t)\n",
    "y_train = y.append(y_t)"
   ]
  },
  {
   "cell_type": "code",
   "execution_count": 65,
   "id": "007fef4e-f2b6-4d46-9aa2-13110443f57a",
   "metadata": {},
   "outputs": [],
   "source": [
    "rf_classifier = RandomForestClassifier()\n",
    "rfe = RFE(estimator=rf_classifier, n_features_to_select=10)"
   ]
  },
  {
   "cell_type": "code",
   "execution_count": 68,
   "id": "1ec1cf7a-3d44-4e55-afd6-9a02188fec96",
   "metadata": {},
   "outputs": [],
   "source": [
    "X_selected = rfe.fit_transform(x_train, y_train)\n",
    "selected_features = X.columns[rfe.support_]"
   ]
  },
  {
   "cell_type": "code",
   "execution_count": 37,
   "id": "3b8c0ce0-2d15-43ce-8887-d2fbc796e4fe",
   "metadata": {},
   "outputs": [],
   "source": [
    "X_selected = x_train[['BMI', 'HbA1c', 'zr007', 'zr029', 'zr032', 'zr067', 'zr072', 'zr074',\n",
    "       'zr110', 'zr113']]"
   ]
  },
  {
   "cell_type": "code",
   "execution_count": 69,
   "id": "57cb2ef7-d725-4ca7-a7b9-712b5552c00f",
   "metadata": {},
   "outputs": [
    {
     "data": {
      "text/plain": [
       "Index(['DBP1', 'zr026', 'zr045', 'zr058', 'zr067', 'zr072', 'zr080', 'zr091',\n",
       "       'zr095', 'zr113'],\n",
       "      dtype='object')"
      ]
     },
     "execution_count": 69,
     "metadata": {},
     "output_type": "execute_result"
    }
   ],
   "source": [
    "selected_features"
   ]
  },
  {
   "cell_type": "code",
   "execution_count": 70,
   "id": "1d9d9bdd-1235-4aa2-9223-c81ac4c4c2f5",
   "metadata": {},
   "outputs": [],
   "source": [
    "X_train, X_test, y_train, y_test = skms.train_test_split(X_selected, y_train, test_size=test_size, random_state=random_seed)\n",
    "X_train_rows, y_train_rows = X_train.shape[0], y_train.shape[0]\n",
    "X_test_rows, y_test_rows = X_test.shape[0], y_test.shape[0]\n",
    "train_rows, test_rows = -1, -1"
   ]
  },
  {
   "cell_type": "code",
   "execution_count": 71,
   "id": "216218cd-c3c4-47e9-b722-925a620b9453",
   "metadata": {},
   "outputs": [],
   "source": [
    "if X_train_rows == y_train_rows:\n",
    "    train_rows = X_train_rows\n",
    "\n",
    "if X_test_rows == y_test_rows:\n",
    "    test_rows = X_test_rows"
   ]
  },
  {
   "cell_type": "code",
   "execution_count": 72,
   "id": "2095ff05-6797-46ba-9c2c-ed0dd3842e9a",
   "metadata": {},
   "outputs": [
    {
     "ename": "AttributeError",
     "evalue": "'numpy.ndarray' object has no attribute 'columns'",
     "output_type": "error",
     "traceback": [
      "\u001b[0;31m---------------------------------------------------------------------------\u001b[0m",
      "\u001b[0;31mAttributeError\u001b[0m                            Traceback (most recent call last)",
      "Cell \u001b[0;32mIn[72], line 1\u001b[0m\n\u001b[0;32m----> 1\u001b[0m features \u001b[38;5;241m=\u001b[39m \u001b[43mX_selected\u001b[49m\u001b[38;5;241;43m.\u001b[39;49m\u001b[43mcolumns\u001b[49m\u001b[38;5;241m.\u001b[39mtolist()\n",
      "\u001b[0;31mAttributeError\u001b[0m: 'numpy.ndarray' object has no attribute 'columns'"
     ]
    }
   ],
   "source": [
    "features = X_selected.columns.tolist()"
   ]
  },
  {
   "cell_type": "code",
   "execution_count": 73,
   "id": "3bafeaaf-4dee-4020-b859-d6ac794b6565",
   "metadata": {},
   "outputs": [
    {
     "name": "stdout",
     "output_type": "stream",
     "text": [
      "> features = 10\n",
      "> training set = 1612 (0.8)\n",
      "> testing set = 404 (0.2) \n",
      "\n"
     ]
    }
   ],
   "source": [
    "rows, cols = X_selected.shape\n",
    "print(f'> features = {len(features)}')\n",
    "print(f'> training set = {train_rows} ({round(train_rows*1.0/rows,3)})')\n",
    "print(f'> testing set = {test_rows} ({round(test_rows*1.0/rows,3)}) \\n')"
   ]
  },
  {
   "cell_type": "code",
   "execution_count": 74,
   "id": "7a07b1c8-3582-4c86-8cb1-92822509f4be",
   "metadata": {},
   "outputs": [
    {
     "name": "stdout",
     "output_type": "stream",
     "text": [
      "1126\n",
      "486\n"
     ]
    }
   ],
   "source": [
    "print(len(y_train[y_train==0]))\n",
    "print(len(y_train[y_train==1]))"
   ]
  },
  {
   "cell_type": "code",
   "execution_count": 75,
   "id": "397606aa-f664-4a63-b1fa-b5f71d419e2d",
   "metadata": {},
   "outputs": [],
   "source": [
    "#----  random forest training with hyperparameter tuning\n",
    "random_grid = {'n_estimators': [110,120,130],\n",
    "               'criterion': ['gini', 'entropy'],\n",
    "               'max_features': [0.25,0.5, 0.75],\n",
    "               'max_depth': [1],\n",
    "               'min_samples_split': [10,20,30],\n",
    "               'min_samples_leaf': [60,70,80],\n",
    "               'bootstrap': [True, False],\n",
    "               'class_weight': ['balanced'],\n",
    "               'random_state': [random_seed]}"
   ]
  },
  {
   "cell_type": "code",
   "execution_count": 76,
   "id": "0f0179af-8504-42ea-9d29-84765a355075",
   "metadata": {},
   "outputs": [
    {
     "name": "stdout",
     "output_type": "stream",
     "text": [
      "> Random Forest classifier...\n"
     ]
    }
   ],
   "source": [
    "print('> Random Forest classifier...')\n",
    "optimized_rfc = skms.RandomizedSearchCV(estimator = RandomForestClassifier(), \n",
    "                                        param_distributions = random_grid, \n",
    "                                        n_iter = 200, \n",
    "                                        cv = 5, \n",
    "                                        scoring=['roc_auc'],\n",
    "                                        refit ='roc_auc',\n",
    "                                        verbose=1, \n",
    "                                        n_jobs = -1,\n",
    "                                        random_state = random_seed, \n",
    "                                        error_score='raise',\n",
    "                                        return_train_score= True)"
   ]
  },
  {
   "cell_type": "code",
   "execution_count": 77,
   "id": "9a6dc620-09cc-4efa-addb-a6491610c62a",
   "metadata": {},
   "outputs": [
    {
     "name": "stdout",
     "output_type": "stream",
     "text": [
      "Fitting 5 folds for each of 200 candidates, totalling 1000 fits\n",
      "\n",
      "\n"
     ]
    }
   ],
   "source": [
    "optimized_rfc.fit(X_train, np.ravel(y_train))\n",
    "print('\\n')"
   ]
  },
  {
   "cell_type": "code",
   "execution_count": 78,
   "id": "4681c1a8-1c87-4f60-86c1-b1ff27ef19f8",
   "metadata": {},
   "outputs": [],
   "source": [
    "#----  obtaining results of the grid run\n",
    "cv_results = optimized_rfc.cv_results_\n",
    "cv_results_df = pd.DataFrame(cv_results)"
   ]
  },
  {
   "cell_type": "code",
   "execution_count": 79,
   "id": "6d159956-ddf4-483a-a50c-514f0045951d",
   "metadata": {},
   "outputs": [
    {
     "data": {
      "text/html": [
       "<div>\n",
       "<style scoped>\n",
       "    .dataframe tbody tr th:only-of-type {\n",
       "        vertical-align: middle;\n",
       "    }\n",
       "\n",
       "    .dataframe tbody tr th {\n",
       "        vertical-align: top;\n",
       "    }\n",
       "\n",
       "    .dataframe thead th {\n",
       "        text-align: right;\n",
       "    }\n",
       "</style>\n",
       "<table border=\"1\" class=\"dataframe\">\n",
       "  <thead>\n",
       "    <tr style=\"text-align: right;\">\n",
       "      <th></th>\n",
       "      <th>split0_test_roc_auc</th>\n",
       "      <th>split1_test_roc_auc</th>\n",
       "      <th>split2_test_roc_auc</th>\n",
       "      <th>mean_test_roc_auc</th>\n",
       "      <th>std_test_roc_auc</th>\n",
       "      <th>rank_test_roc_auc</th>\n",
       "    </tr>\n",
       "  </thead>\n",
       "  <tbody>\n",
       "    <tr>\n",
       "      <th>191</th>\n",
       "      <td>0.715195</td>\n",
       "      <td>0.705624</td>\n",
       "      <td>0.701901</td>\n",
       "      <td>0.711426</td>\n",
       "      <td>0.011524</td>\n",
       "      <td>1</td>\n",
       "    </tr>\n",
       "    <tr>\n",
       "      <th>56</th>\n",
       "      <td>0.714282</td>\n",
       "      <td>0.705306</td>\n",
       "      <td>0.702268</td>\n",
       "      <td>0.711363</td>\n",
       "      <td>0.011646</td>\n",
       "      <td>2</td>\n",
       "    </tr>\n",
       "    <tr>\n",
       "      <th>44</th>\n",
       "      <td>0.714282</td>\n",
       "      <td>0.705306</td>\n",
       "      <td>0.702268</td>\n",
       "      <td>0.711363</td>\n",
       "      <td>0.011646</td>\n",
       "      <td>2</td>\n",
       "    </tr>\n",
       "    <tr>\n",
       "      <th>183</th>\n",
       "      <td>0.718160</td>\n",
       "      <td>0.705238</td>\n",
       "      <td>0.700481</td>\n",
       "      <td>0.711346</td>\n",
       "      <td>0.010429</td>\n",
       "      <td>4</td>\n",
       "    </tr>\n",
       "    <tr>\n",
       "      <th>141</th>\n",
       "      <td>0.718160</td>\n",
       "      <td>0.705238</td>\n",
       "      <td>0.700481</td>\n",
       "      <td>0.711346</td>\n",
       "      <td>0.010429</td>\n",
       "      <td>4</td>\n",
       "    </tr>\n",
       "    <tr>\n",
       "      <th>...</th>\n",
       "      <td>...</td>\n",
       "      <td>...</td>\n",
       "      <td>...</td>\n",
       "      <td>...</td>\n",
       "      <td>...</td>\n",
       "      <td>...</td>\n",
       "    </tr>\n",
       "    <tr>\n",
       "      <th>174</th>\n",
       "      <td>0.685453</td>\n",
       "      <td>0.668685</td>\n",
       "      <td>0.656426</td>\n",
       "      <td>0.660472</td>\n",
       "      <td>0.017088</td>\n",
       "      <td>169</td>\n",
       "    </tr>\n",
       "    <tr>\n",
       "      <th>48</th>\n",
       "      <td>0.685453</td>\n",
       "      <td>0.668685</td>\n",
       "      <td>0.656426</td>\n",
       "      <td>0.660472</td>\n",
       "      <td>0.017088</td>\n",
       "      <td>169</td>\n",
       "    </tr>\n",
       "    <tr>\n",
       "      <th>45</th>\n",
       "      <td>0.685453</td>\n",
       "      <td>0.668685</td>\n",
       "      <td>0.656426</td>\n",
       "      <td>0.660472</td>\n",
       "      <td>0.017088</td>\n",
       "      <td>169</td>\n",
       "    </tr>\n",
       "    <tr>\n",
       "      <th>147</th>\n",
       "      <td>0.685453</td>\n",
       "      <td>0.668685</td>\n",
       "      <td>0.656426</td>\n",
       "      <td>0.660472</td>\n",
       "      <td>0.017088</td>\n",
       "      <td>169</td>\n",
       "    </tr>\n",
       "    <tr>\n",
       "      <th>199</th>\n",
       "      <td>0.685453</td>\n",
       "      <td>0.668685</td>\n",
       "      <td>0.656426</td>\n",
       "      <td>0.660472</td>\n",
       "      <td>0.017088</td>\n",
       "      <td>169</td>\n",
       "    </tr>\n",
       "  </tbody>\n",
       "</table>\n",
       "<p>200 rows × 6 columns</p>\n",
       "</div>"
      ],
      "text/plain": [
       "     split0_test_roc_auc  split1_test_roc_auc  split2_test_roc_auc  \\\n",
       "191             0.715195             0.705624             0.701901   \n",
       "56              0.714282             0.705306             0.702268   \n",
       "44              0.714282             0.705306             0.702268   \n",
       "183             0.718160             0.705238             0.700481   \n",
       "141             0.718160             0.705238             0.700481   \n",
       "..                   ...                  ...                  ...   \n",
       "174             0.685453             0.668685             0.656426   \n",
       "48              0.685453             0.668685             0.656426   \n",
       "45              0.685453             0.668685             0.656426   \n",
       "147             0.685453             0.668685             0.656426   \n",
       "199             0.685453             0.668685             0.656426   \n",
       "\n",
       "     mean_test_roc_auc  std_test_roc_auc  rank_test_roc_auc  \n",
       "191           0.711426          0.011524                  1  \n",
       "56            0.711363          0.011646                  2  \n",
       "44            0.711363          0.011646                  2  \n",
       "183           0.711346          0.010429                  4  \n",
       "141           0.711346          0.010429                  4  \n",
       "..                 ...               ...                ...  \n",
       "174           0.660472          0.017088                169  \n",
       "48            0.660472          0.017088                169  \n",
       "45            0.660472          0.017088                169  \n",
       "147           0.660472          0.017088                169  \n",
       "199           0.660472          0.017088                169  \n",
       "\n",
       "[200 rows x 6 columns]"
      ]
     },
     "execution_count": 79,
     "metadata": {},
     "output_type": "execute_result"
    }
   ],
   "source": [
    "cv_results_df[['split0_test_roc_auc', 'split1_test_roc_auc', 'split2_test_roc_auc', 'mean_test_roc_auc', 'std_test_roc_auc', 'rank_test_roc_auc']].sort_values(by ='rank_test_roc_auc')"
   ]
  },
  {
   "cell_type": "code",
   "execution_count": 80,
   "id": "1a235387-faa9-4e49-8c31-9ba7155ffd98",
   "metadata": {},
   "outputs": [
    {
     "data": {
      "text/html": [
       "<div>\n",
       "<style scoped>\n",
       "    .dataframe tbody tr th:only-of-type {\n",
       "        vertical-align: middle;\n",
       "    }\n",
       "\n",
       "    .dataframe tbody tr th {\n",
       "        vertical-align: top;\n",
       "    }\n",
       "\n",
       "    .dataframe thead th {\n",
       "        text-align: right;\n",
       "    }\n",
       "</style>\n",
       "<table border=\"1\" class=\"dataframe\">\n",
       "  <thead>\n",
       "    <tr style=\"text-align: right;\">\n",
       "      <th></th>\n",
       "      <th>mean_train_roc_auc</th>\n",
       "      <th>mean_test_roc_auc</th>\n",
       "      <th>rank_test_roc_auc</th>\n",
       "    </tr>\n",
       "  </thead>\n",
       "  <tbody>\n",
       "    <tr>\n",
       "      <th>191</th>\n",
       "      <td>0.733656</td>\n",
       "      <td>0.711426</td>\n",
       "      <td>1</td>\n",
       "    </tr>\n",
       "    <tr>\n",
       "      <th>56</th>\n",
       "      <td>0.733935</td>\n",
       "      <td>0.711363</td>\n",
       "      <td>2</td>\n",
       "    </tr>\n",
       "    <tr>\n",
       "      <th>44</th>\n",
       "      <td>0.733935</td>\n",
       "      <td>0.711363</td>\n",
       "      <td>2</td>\n",
       "    </tr>\n",
       "    <tr>\n",
       "      <th>183</th>\n",
       "      <td>0.733095</td>\n",
       "      <td>0.711346</td>\n",
       "      <td>4</td>\n",
       "    </tr>\n",
       "    <tr>\n",
       "      <th>141</th>\n",
       "      <td>0.733095</td>\n",
       "      <td>0.711346</td>\n",
       "      <td>4</td>\n",
       "    </tr>\n",
       "    <tr>\n",
       "      <th>...</th>\n",
       "      <td>...</td>\n",
       "      <td>...</td>\n",
       "      <td>...</td>\n",
       "    </tr>\n",
       "    <tr>\n",
       "      <th>174</th>\n",
       "      <td>0.708152</td>\n",
       "      <td>0.660472</td>\n",
       "      <td>169</td>\n",
       "    </tr>\n",
       "    <tr>\n",
       "      <th>48</th>\n",
       "      <td>0.708152</td>\n",
       "      <td>0.660472</td>\n",
       "      <td>169</td>\n",
       "    </tr>\n",
       "    <tr>\n",
       "      <th>45</th>\n",
       "      <td>0.708152</td>\n",
       "      <td>0.660472</td>\n",
       "      <td>169</td>\n",
       "    </tr>\n",
       "    <tr>\n",
       "      <th>147</th>\n",
       "      <td>0.708152</td>\n",
       "      <td>0.660472</td>\n",
       "      <td>169</td>\n",
       "    </tr>\n",
       "    <tr>\n",
       "      <th>199</th>\n",
       "      <td>0.708152</td>\n",
       "      <td>0.660472</td>\n",
       "      <td>169</td>\n",
       "    </tr>\n",
       "  </tbody>\n",
       "</table>\n",
       "<p>200 rows × 3 columns</p>\n",
       "</div>"
      ],
      "text/plain": [
       "     mean_train_roc_auc  mean_test_roc_auc  rank_test_roc_auc\n",
       "191            0.733656           0.711426                  1\n",
       "56             0.733935           0.711363                  2\n",
       "44             0.733935           0.711363                  2\n",
       "183            0.733095           0.711346                  4\n",
       "141            0.733095           0.711346                  4\n",
       "..                  ...                ...                ...\n",
       "174            0.708152           0.660472                169\n",
       "48             0.708152           0.660472                169\n",
       "45             0.708152           0.660472                169\n",
       "147            0.708152           0.660472                169\n",
       "199            0.708152           0.660472                169\n",
       "\n",
       "[200 rows x 3 columns]"
      ]
     },
     "execution_count": 80,
     "metadata": {},
     "output_type": "execute_result"
    }
   ],
   "source": [
    "cv_results_df[['mean_train_roc_auc', 'mean_test_roc_auc', 'rank_test_roc_auc']].sort_values(by ='rank_test_roc_auc')"
   ]
  },
  {
   "cell_type": "code",
   "execution_count": 81,
   "id": "5ff56e18-07fc-42c1-902e-afb3342f0f3b",
   "metadata": {},
   "outputs": [
    {
     "name": "stdout",
     "output_type": "stream",
     "text": [
      "> best hyperparameters = {'random_state': 295471, 'n_estimators': 110, 'min_samples_split': 10, 'min_samples_leaf': 80, 'max_features': 0.5, 'max_depth': 1, 'criterion': 'entropy', 'class_weight': 'balanced', 'bootstrap': True}\n",
      "> best cv score = 0.7114259867131477 \n",
      "\n"
     ]
    }
   ],
   "source": [
    "best_params = optimized_rfc.best_params_\n",
    "best_score = optimized_rfc.best_score_\n",
    "print(f'> best hyperparameters = {best_params}')\n",
    "print(f'> best cv score = {best_score} \\n')"
   ]
  },
  {
   "cell_type": "code",
   "execution_count": 82,
   "id": "09c69981-1cf5-48b9-8d31-bc1576c7b720",
   "metadata": {},
   "outputs": [],
   "source": [
    "y_train_pred = optimized_rfc.predict(X_train)\n",
    "y_train_pred_proba = optimized_rfc.predict_proba(X_train)[:, 1]\n",
    "accuracy_train = round(accuracy_score(y_train, y_train_pred),3)\n",
    "roc_auc_train = round(roc_auc_score(y_train, y_train_pred_proba),3)\n",
    "recall_train = round(recall_score(y_train, y_train_pred),3)\n",
    "precision_train = round(precision_score(y_train, y_train_pred),3)"
   ]
  },
  {
   "cell_type": "code",
   "execution_count": 83,
   "id": "f4932afb-230c-4799-9a2b-12b6037d5246",
   "metadata": {},
   "outputs": [],
   "source": [
    "y_pred = optimized_rfc.predict(X_test)\n",
    "y_pred_proba = optimized_rfc.predict_proba(X_test)[:, 1]\n",
    "accuracy_test = round(accuracy_score(y_test, y_pred),3)\n",
    "roc_auc_test = round(roc_auc_score(y_test, y_pred_proba),3)\n",
    "recall_test = round(recall_score(y_test, y_pred),3)\n",
    "precision_test = round(precision_score(y_test, y_pred),3)\n",
    "tn, fp, fn, tp = confusion_matrix(y_test, y_pred).ravel()"
   ]
  },
  {
   "cell_type": "code",
   "execution_count": 84,
   "id": "0484d0a9-101c-4ee4-8ffa-967184e0b05b",
   "metadata": {},
   "outputs": [
    {
     "name": "stdout",
     "output_type": "stream",
     "text": [
      "> evaluation metrics \n",
      "\n",
      "metric                 training    testing\n",
      "roc auc                   0.728      0.717\n",
      "accuracy                  0.631      0.624\n",
      "recall                    0.726      0.698\n",
      "precision                 0.433      0.436\n",
      "\n",
      "\n"
     ]
    }
   ],
   "source": [
    "print('> evaluation metrics \\n')\n",
    "print('%-10s %20s %10s' % ('metric','training','testing'))\n",
    "print('%-10s %20s %10s' % ('roc auc', roc_auc_train, roc_auc_test))\n",
    "print('%-10s %20s %10s' % ('accuracy', accuracy_train, accuracy_test))\n",
    "print('%-10s %20s %10s' % ('recall', recall_train, recall_test))\n",
    "print('%-10s %20s %10s' % ('precision', precision_train, precision_test))\n",
    "print('\\n')"
   ]
  },
  {
   "cell_type": "code",
   "execution_count": 85,
   "id": "b27ceba0-4495-41bc-9f3c-d3ec95bb6191",
   "metadata": {},
   "outputs": [
    {
     "name": "stdout",
     "output_type": "stream",
     "text": [
      "> confusion matrix \n",
      "\n",
      "164 114 38 88\n",
      "\n",
      "\n"
     ]
    }
   ],
   "source": [
    "print('> confusion matrix \\n')\n",
    "print(tn, fp, fn, tp)\n",
    "print('\\n')"
   ]
  },
  {
   "cell_type": "code",
   "execution_count": 27,
   "id": "39af8330-7705-4474-a2a1-69add6160065",
   "metadata": {},
   "outputs": [],
   "source": [
    "fpr, tpr, _ = roc_curve(y_test, y_pred_proba)\n",
    "roc_auc = auc(fpr, tpr)"
   ]
  },
  {
   "cell_type": "code",
   "execution_count": 29,
   "id": "d3753b87-5388-4766-a4c3-8854f2ac1b5b",
   "metadata": {},
   "outputs": [],
   "source": [
    "fpr_tpr = pd.DataFrame(data=np.array([fpr, tpr]).T, columns=[\"fpr\", \"tpr\"])\n",
    "fpr_tpr.to_excel(\"fpr_tpr_re_mtdt.xlsx\", index=False)"
   ]
  },
  {
   "cell_type": "code",
   "execution_count": 28,
   "id": "5250ea41-c3a5-4147-9f52-2aea37f2a2c3",
   "metadata": {},
   "outputs": [],
   "source": [
    "#----  getting feature importance\n",
    "optimized_rfc_importance = optimized_rfc.best_estimator_.feature_importances_\n",
    "indices = np.argsort(-1*optimized_rfc_importance)\n",
    "rfc_feature_imp_df = pd.DataFrame(optimized_rfc_importance, index=pd.DataFrame(X_test).columns, columns=['importance'])\n",
    "rfc_feature_imp_df.sort_values(by='importance', ascending=False, inplace=True)"
   ]
  },
  {
   "cell_type": "code",
   "execution_count": 25,
   "id": "824de553-bd4e-41d1-8b4d-32b161476b19",
   "metadata": {},
   "outputs": [
    {
     "name": "stdout",
     "output_type": "stream",
     "text": [
      "> feature importance\n",
      "0.1818   (BMI)               \n",
      "0.1545   (zr067)             \n",
      "0.1273   (zr072)             \n",
      "0.1182   (zr074)             \n",
      "0.1      (zr032)             \n",
      "0.0909   (zr007)             \n",
      "0.0818   (zr113)             \n",
      "0.0636   (HbA1c)             \n",
      "0.0455   (zr110)             \n",
      "0.0364   (zr029)             \n"
     ]
    }
   ],
   "source": [
    "# summarize feature importance\n",
    "print('> feature importance')\n",
    "for i in indices:\n",
    "    print('%-8s %-20s' % (round(optimized_rfc_importance[i], 4), f'({features[i]})'))"
   ]
  },
  {
   "cell_type": "code",
   "execution_count": 26,
   "id": "022e01eb-7af0-46f2-9433-51d02cb61d3a",
   "metadata": {},
   "outputs": [
    {
     "data": {
      "image/png": "[encoded data removed]",
      "text/plain": [
       "<Figure size 800x550 with 1 Axes>"
      ]
     },
     "metadata": {},
     "output_type": "display_data"
    }
   ],
   "source": [
    "# feature importance plot\n",
    "plt.style.use('seaborn')\n",
    "fig, ax = plt.subplots()\n",
    "ax.barh(range(len(indices)), optimized_rfc_importance[indices], align='center')\n",
    "ax.set_yticks(range(len(indices)))\n",
    "#ax.set_yticklabels([\"RFNL-R\", \"RFNL-L\",\"ISOS-RPE\" ], fontsize=12)\n",
    "ax.set_yticklabels([features[i] for i in indices], fontsize=12)\n",
    "ax.invert_yaxis()\n",
    "ax.set_title('Feature Importances', fontsize=18, fontweight='bold')\n",
    "ax.set_xlabel('Relative Importance', fontsize=18, fontweight='bold')\n",
    "ax.set_ylabel('Features', fontsize=18, fontweight='bold')\n",
    "ax.spines['left'].set_color('black')\n",
    "ax.spines['left'].set_linewidth(2)\n",
    "ax.spines['bottom'].set_color('black')\n",
    "ax.spines['bottom'].set_linewidth(2)\n",
    "ax.grid(True)\n",
    "#fig.savefig('feature_importance_plot.png')"
   ]
  },
  {
   "cell_type": "code",
   "execution_count": null,
   "id": "1257102c-9d9f-4b02-a9d0-5955f524ac46",
   "metadata": {},
   "outputs": [],
   "source": []
  },
  {
   "cell_type": "code",
   "execution_count": null,
   "id": "333ecb49-8120-4c14-bb8e-92dbcf57c8cd",
   "metadata": {},
   "outputs": [],
   "source": []
  }
 ],
 "metadata": {
  "kernelspec": {
   "display_name": "Python 3 (ipykernel)",
   "language": "python",
   "name": "python3"
  },
  "language_info": {
   "codemirror_mode": {
    "name": "ipython",
    "version": 3
   },
   "file_extension": ".py",
   "mimetype": "text/x-python",
   "name": "python",
   "nbconvert_exporter": "python",
   "pygments_lexer": "ipython3",
   "version": "3.9.6"
  }
 },
 "nbformat": 4,
 "nbformat_minor": 5
}
