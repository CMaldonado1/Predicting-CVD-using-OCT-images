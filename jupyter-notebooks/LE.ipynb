{
 "cells": [
  {
   "cell_type": "raw",
   "id": "bd58034b-e882-4035-ae2c-c35f47bdbd69",
   "metadata": {},
   "source": [
    "import torch\n",
    "import numpy as np\n",
    "import pandas as pd\n",
    "import torchvision.transforms.functional as F\n",
    "import torchvision.transforms as transforms\n",
    "import matplotlib.pyplot as plt\n",
    "import torchvision.transforms as transforms\n",
    "from sklearn.decomposition import PCA\n",
    "import torchvision.transforms as T\n",
    "from oct_ml_vae_fc import VAE_OCT, classifier_oct, VAE_classifier_OCT  #_class\n",
    "from pl_datamodule_vae_fc import OCT_DM, MM\n",
    "from sklearn import preprocessing\n",
    "import torch.nn as nn\n",
    "from captum.attr import Occlusion, IntegratedGradients, LayerConductance\n",
    "from sklearn.feature_selection import RFE\n",
    "from sklearn.ensemble import RandomForestClassifier\n",
    "import sklearn.model_selection as skms\n",
    "from sklearn.metrics import accuracy_score, precision_score, recall_score, roc_auc_score, confusion_matrix, roc_curve, auc"
   ]
  },
  {
   "cell_type": "raw",
   "id": "ce7bcd9e-a31b-4b99-94d5-9caaf80611a8",
   "metadata": {},
   "source": [
    "random_seed = 295471\n",
    "test_size = 0.2\n",
    "train_size = 1-test_size"
   ]
  },
  {
   "cell_type": "raw",
   "id": "86131f0f-7125-4ecc-b355-87d26cb79c33",
   "metadata": {},
   "source": [
    "zs_be = pd.read_excel('zs_be_mtdt.xlsx')\n",
    "selected_columns = ['ID', 'Vascular'] + [f\"zl{i:03d}\" for i in range(128)]\n",
    "zs_le = zs_be[selected_columns]\n",
    "X = zs_le.drop(['Vascular','ID'], axis=1)\n",
    "y = zs_le['Vascular']"
   ]
  },
  {
   "cell_type": "raw",
   "id": "99ee3864-c546-4408-9c71-3a36c3f88d59",
   "metadata": {},
   "source": [
    "new_test_set = pd.read_excel('../new_test_set/new_test_set_1.xlsx')\n",
    "selected_columns2 = ['IDs', 'Vascular'] + [f\"zl{i:03d}\" for i in range(128)]\n",
    "zs_le_test = new_test_set[selected_columns2]\n",
    "X_t = zs_le_test.drop(['Vascular','IDs'], axis=1)\n",
    "y_t = zs_le_test['Vascular']"
   ]
  },
  {
   "cell_type": "raw",
   "id": "feb0fa60-a621-40d6-8aa8-cc61dff06b64",
   "metadata": {},
   "source": [
    "x_train = X.append(X_t)\n",
    "y_train = y.append(y_t)"
   ]
  },
  {
   "cell_type": "raw",
   "id": "e6758af7-10f0-4f6e-9a1c-787718c91798",
   "metadata": {},
   "source": [
    "y_train"
   ]
  },
  {
   "cell_type": "raw",
   "id": "73c2eb1a-9c24-4f79-986f-a9284346bfbe",
   "metadata": {},
   "source": [
    "rf_classifier = RandomForestClassifier()\n",
    "rfe = RFE(estimator=rf_classifier, n_features_to_select=10)"
   ]
  },
  {
   "cell_type": "raw",
   "id": "a28bc85d-80dc-4393-b9fe-cb203844e405",
   "metadata": {},
   "source": [
    "X_selected = rfe.fit_transform(x_train, y_train)\n",
    "selected_features = X.columns[rfe.support_]"
   ]
  },
  {
   "cell_type": "raw",
   "id": "bff6eb1e-318b-4b57-bc90-d3ef7854615d",
   "metadata": {},
   "source": [
    "X_selected = X[['zl005', 'zl054', 'zl066', 'zl072', 'zl075', 'zl087', 'zl101', 'zl115', \n",
    "       'zl121',   'zl127']]"
   ]
  },
  {
   "cell_type": "raw",
   "id": "7e3c3da5-c128-43f8-9636-cea64e8c4142",
   "metadata": {},
   "source": [
    "X_t_selected = X_t[['zl005', 'zl054', 'zl066', 'zl072', 'zl075', 'zl087', 'zl101', 'zl115', \n",
    "       'zl121',   'zl127']]"
   ]
  },
  {
   "cell_type": "raw",
   "id": "c4e3ca7d-60c7-41a0-a2b9-9d1a3a12f21a",
   "metadata": {},
   "source": [
    "X_train, X_test, y_train, y_test = skms.train_test_split(X_selected, y_train, test_size=test_size, random_state=random_seed)\n",
    "X_train_rows, y_train_rows = X_train.shape[0], y_train.shape[0]\n",
    "X_test_rows, y_test_rows = X_test.shape[0], y_test.shape[0]\n",
    "train_rows, test_rows = -1, -1"
   ]
  },
  {
   "cell_type": "raw",
   "id": "47bc000d-3f8a-448f-924a-12176cbb89c4",
   "metadata": {},
   "source": [
    "test_x = test_x.reset_index(drop=True)"
   ]
  },
  {
   "cell_type": "raw",
   "id": "9e0ab43a-08bb-4b71-9807-94a74dd07f64",
   "metadata": {},
   "source": [
    "test_x = X_test.append(X_t_selected)"
   ]
  },
  {
   "cell_type": "raw",
   "id": "8514eb5c-e041-47dc-946d-d87e562f506e",
   "metadata": {},
   "source": [
    "test_y = y_test.append(y_t)\n",
    "test_y = test_y.reset_index(drop=True)"
   ]
  },
  {
   "cell_type": "raw",
   "id": "beb556ff-99d3-4d84-a49f-7f099f9047ef",
   "metadata": {},
   "source": [
    "if X_train_rows == y_train_rows:\n",
    "    train_rows = X_train_rows\n",
    "\n",
    "if X_test_rows == y_test_rows:\n",
    "    test_rows = X_test_rows"
   ]
  },
  {
   "cell_type": "raw",
   "id": "5c1ef077-5db0-4397-a064-dfccfb825c62",
   "metadata": {},
   "source": [
    "features = X_selected.columns.tolist()"
   ]
  },
  {
   "cell_type": "code",
   "execution_count": null,
   "id": "e65a4a27-0693-4410-a4f2-376816afe156",
   "metadata": {},
   "outputs": [],
   "source": [
    "rows, cols = X_selected.shape\n",
    "print(f'> features = {len(features)}')\n",
    "print(f'> training set = {train_rows} ({round(train_rows*1.0/rows,3)})')\n",
    "print(f'> testing set = {test_rows} ({round(test_rows*1.0/rows,3)}) \\n')"
   ]
  },
  {
   "cell_type": "raw",
   "id": "31b862d3-f258-4672-bc87-acc6fa5cdc9f",
   "metadata": {},
   "source": [
    "#----  random forest training with hyperparameter tuning\n",
    "random_grid = {'n_estimators': [10, 30, 50],\n",
    "               'criterion': ['gini', 'entropy'],\n",
    "               'max_features': [0.25, 0.50, 0.75],\n",
    "               'max_depth': [1],\n",
    "               'min_samples_split': [150, 200, 250],\n",
    "               'min_samples_leaf': [220, 230, 240],\n",
    "               'bootstrap': [True, False],\n",
    "               'class_weight': ['balanced'],\n",
    "               'random_state': [random_seed]}"
   ]
  },
  {
   "cell_type": "raw",
   "id": "e47b30cf-cfed-4a45-8477-47295f862ec6",
   "metadata": {},
   "source": [
    "print('> Random Forest classifier...')\n",
    "optimized_rfc = skms.RandomizedSearchCV(estimator = RandomForestClassifier(), \n",
    "                                        param_distributions = random_grid, \n",
    "                                        n_iter = 500, \n",
    "                                        cv = 5, \n",
    "                                        scoring=['roc_auc'],\n",
    "                                        refit ='roc_auc',\n",
    "                                        verbose=1, \n",
    "                                        n_jobs = -1,\n",
    "                                        random_state = random_seed, \n",
    "                                        return_train_score= True)"
   ]
  },
  {
   "cell_type": "raw",
   "id": "5afef4b6-8324-4d80-9fd6-4e110e7ea9ad",
   "metadata": {},
   "source": [
    "optimized_rfc.fit(X_train, np.ravel(y_train))\n",
    "print('\\n')"
   ]
  },
  {
   "cell_type": "raw",
   "id": "735a9120-29ee-41ba-b9bc-4063f3f93dcd",
   "metadata": {},
   "source": [
    "#----  obtaining results of the grid run\n",
    "cv_results = optimized_rfc.cv_results_\n",
    "cv_results_df = pd.DataFrame(cv_results)"
   ]
  },
  {
   "cell_type": "raw",
   "id": "51f43fab-5159-4250-8f0b-7ceaf9977400",
   "metadata": {},
   "source": [
    "cv_results_df[['split0_test_roc_auc', 'split1_test_roc_auc', 'split2_test_roc_auc', 'mean_test_roc_auc', 'std_test_roc_auc', 'rank_test_roc_auc']].sort_values(by ='rank_test_roc_auc')"
   ]
  },
  {
   "cell_type": "raw",
   "id": "63bb38f6-d672-4e69-b937-aa2436cb56a2",
   "metadata": {},
   "source": [
    "cv_results_df[['mean_train_roc_auc', 'mean_test_roc_auc', 'rank_test_roc_auc']].sort_values(by ='rank_test_roc_auc')"
   ]
  },
  {
   "cell_type": "raw",
   "id": "43634b62-c39f-4a8e-ada1-7f440286914c",
   "metadata": {},
   "source": [
    "best_params = optimized_rfc.best_params_\n",
    "best_score = optimized_rfc.best_score_\n",
    "print(f'> best hyperparameters = {best_params}')\n",
    "print(f'> best cv score = {best_score} \\n')"
   ]
  },
  {
   "cell_type": "raw",
   "id": "4458db96-f351-4b9e-b25d-6f3747d05a22",
   "metadata": {},
   "source": [
    "y_train_pred = optimized_rfc.predict(X_train)\n",
    "y_train_pred_proba = optimized_rfc.predict_proba(X_train)[:, 1]\n",
    "accuracy_train = round(accuracy_score(y_train, y_train_pred),3)\n",
    "roc_auc_train = round(roc_auc_score(y_train, y_train_pred_proba),3)\n",
    "recall_train = round(recall_score(y_train, y_train_pred),3)\n",
    "precision_train = round(precision_score(y_train, y_train_pred),3)"
   ]
  },
  {
   "cell_type": "raw",
   "id": "5a3dd5f5-ece6-4b07-9c48-44b498961fc1",
   "metadata": {},
   "source": [
    "y_pred = optimized_rfc.predict(X_test)\n",
    "y_pred_proba = optimized_rfc.predict_proba(X_test)[:, 1]\n",
    "accuracy_test = round(accuracy_score(y_test, y_pred),2)\n",
    "roc_auc_test = round(roc_auc_score(y_test, y_pred_proba),2)\n",
    "recall_test = round(recall_score(y_test, y_pred),2)\n",
    "precision_test = round(precision_score(y_test, y_pred),2)\n",
    "tn, fp, fn, tp = confusion_matrix(y_test, y_pred).ravel()"
   ]
  },
  {
   "cell_type": "raw",
   "id": "1cc3037a-7734-4682-af41-e59cbed2d31f",
   "metadata": {},
   "source": [
    "print('> evaluation metrics \\n')\n",
    "print('%-10s %20s %10s' % ('metric','training','testing'))\n",
    "print('%-10s %20s %10s' % ('roc auc', roc_auc_train, roc_auc_test))\n",
    "print('%-10s %20s %10s' % ('accuracy', accuracy_train, accuracy_test))\n",
    "print('%-10s %20s %10s' % ('recall', recall_train, recall_test))\n",
    "print('%-10s %20s %10s' % ('precision', precision_train, precision_test))\n",
    "print('\\n')"
   ]
  },
  {
   "cell_type": "raw",
   "id": "943fcac3-c596-462b-a346-1b9352a4d261",
   "metadata": {},
   "source": [
    "print('> confusion matrix \\n')\n",
    "print(tn, fp, fn, tp)\n",
    "print('\\n')"
   ]
  },
  {
   "cell_type": "raw",
   "id": "4942c44e-e8f6-4e5f-b822-b78753f13c59",
   "metadata": {},
   "source": [
    "fpr, tpr, _ = roc_curve(test_y, y_pred_proba)\n",
    "roc_auc = auc(fpr, tpr)"
   ]
  },
  {
   "cell_type": "raw",
   "id": "64d18b1e-d4aa-4aca-acfd-440803e59285",
   "metadata": {},
   "source": [
    "fpr_tpr = pd.DataFrame(data=np.array([fpr, tpr]).T, columns=[\"fpr\", \"tpr\"])\n",
    "fpr_tpr.to_excel(\"fpr_tpr_le.xlsx\", index=False)"
   ]
  },
  {
   "cell_type": "raw",
   "id": "46e57d06-e854-462e-90ea-c19a7144c171",
   "metadata": {},
   "source": [
    "#----  getting feature importance\n",
    "optimized_rfc_importance = optimized_rfc.best_estimator_.feature_importances_\n",
    "indices = np.argsort(-1*optimized_rfc_importance)\n",
    "rfc_feature_imp_df = pd.DataFrame(optimized_rfc_importance, index=pd.DataFrame(test_x).columns, columns=['importance'])\n",
    "rfc_feature_imp_df.sort_values(by='importance', ascending=False, inplace=True)"
   ]
  },
  {
   "cell_type": "raw",
   "id": "05d62a2d-6bf7-4ba6-b0d7-1ffb47d02bbd",
   "metadata": {},
   "source": [
    "# summarize feature importance\n",
    "print('> feature importance')\n",
    "for i in indices:\n",
    "    print('%-8s %-20s' % (round(optimized_rfc_importance[i], 4), f'({features[i]})'))"
   ]
  },
  {
   "cell_type": "raw",
   "id": "2d7dd588-2116-44e3-8dc2-04ab07b5bd5f",
   "metadata": {},
   "source": [
    "# feature importance plot\n",
    "plt.style.use('seaborn')\n",
    "fig, ax = plt.subplots()\n",
    "ax.barh(range(len(indices[:25])), optimized_rfc_importance[indices[:25]], align='center')\n",
    "ax.set_yticks(range(len(indices[:25])))\n",
    "#ax.set_yticklabels([\"RFNL-R\", \"RFNL-L\",\"ISOS-RPE\" ], fontsize=12)\n",
    "ax.set_yticklabels([selected_features[i] for i in indices[:25]], fontsize=12)\n",
    "ax.invert_yaxis()\n",
    "ax.set_title('Feature Importances', fontsize=18, fontweight='bold')\n",
    "ax.set_xlabel('Relative Importance', fontsize=18, fontweight='bold')\n",
    "ax.set_ylabel('Features', fontsize=18, fontweight='bold')\n",
    "ax.spines['left'].set_color('black')\n",
    "ax.spines['left'].set_linewidth(2)\n",
    "ax.spines['bottom'].set_color('black')\n",
    "ax.spines['bottom'].set_linewidth(2)\n",
    "ax.grid(True)\n",
    "#fig.savefig('feature_importance_plot.png')"
   ]
  },
  {
   "cell_type": "raw",
   "id": "3e063d28-eb34-40c9-b7d4-c3b1fd0c851d",
   "metadata": {},
   "source": [
    "# ROC curve\n",
    "# print(plt.style.available)\n",
    "plt.style.use('seaborn')\n",
    "fig, ax = plt.subplots()\n",
    "ax.plot(fpr, tpr)\n",
    "ax.plot([0, 1], [0, 1], linestyle='--', lw=2, color='r', label='Chance', alpha=.8)\n",
    "ax.set_title('ROC Curve (auc = %0.3f)' % roc_auc, fontsize=22, fontweight='bold')\n",
    "ax.set_xlabel('False Positive Rate', fontsize=16, fontweight='bold')\n",
    "ax.set_ylabel('True Positive Rate', fontsize=16, fontweight='bold')\n",
    "ax.spines['left'].set_color('black')\n",
    "ax.spines['left'].set_linewidth(2)\n",
    "ax.spines['bottom'].set_color('black')\n",
    "ax.spines['bottom'].set_linewidth(2)\n",
    "ax.grid(True)"
   ]
  },
  {
   "cell_type": "code",
   "execution_count": null,
   "id": "333ecb49-8120-4c14-bb8e-92dbcf57c8cd",
   "metadata": {},
   "outputs": [],
   "source": []
  }
 ],
 "metadata": {
  "kernelspec": {
   "display_name": "Python 3 (ipykernel)",
   "language": "python",
   "name": "python3"
  },
  "language_info": {
   "codemirror_mode": {
    "name": "ipython",
    "version": 3
   },
   "file_extension": ".py",
   "mimetype": "text/x-python",
   "name": "python",
   "nbconvert_exporter": "python",
   "pygments_lexer": "ipython3",
   "version": "3.9.6"
  }
 },
 "nbformat": 4,
 "nbformat_minor": 5
}
