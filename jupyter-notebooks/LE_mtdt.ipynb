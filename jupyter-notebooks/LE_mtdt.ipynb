{
 "cells": [
  {
   "cell_type": "raw",
   "id": "d5382e93-471c-40a6-9976-2f2d4dcf95d6",
   "metadata": {},
   "source": [
    "import torch\n",
    "import numpy as np\n",
    "import pandas as pd\n",
    "import torchvision.transforms.functional as F\n",
    "import torchvision.transforms as transforms\n",
    "import matplotlib.pyplot as plt\n",
    "import torchvision.transforms as transforms\n",
    "from sklearn.decomposition import PCA\n",
    "import torchvision.transforms as T\n",
    "from oct_ml_vae_fc import VAE_OCT, classifier_oct, VAE_classifier_OCT  #_class\n",
    "from pl_datamodule_vae_fc import OCT_DM, MM\n",
    "from sklearn import preprocessing\n",
    "import torch.nn as nn\n",
    "from captum.attr import Occlusion, IntegratedGradients, LayerConductance\n",
    "from sklearn.feature_selection import RFE\n",
    "from sklearn.ensemble import RandomForestClassifier\n",
    "import sklearn.model_selection as skms\n",
    "from sklearn.metrics import accuracy_score, precision_score, recall_score, roc_auc_score, confusion_matrix, roc_curve, auc"
   ]
  },
  {
   "cell_type": "raw",
   "id": "8a3d8805-693d-4184-aa2d-dd24abf76def",
   "metadata": {},
   "source": [
    "random_seed = 295471\n",
    "test_size = 0.2\n",
    "train_size = 1-test_size"
   ]
  },
  {
   "cell_type": "raw",
   "id": "165f52ad-5678-409e-82ef-f59f5c04e0ca",
   "metadata": {},
   "source": [
    "zs_be_md = pd.read_excel('zs_be_mtdt.xlsx')\n",
    "selected_columns = ['ID', 'Vascular'] + [f\"zr{i:03d}\" for i in range(128)]\n",
    "X = zs_be_md.drop(selected_columns, axis=1)\n",
    "y = zs_be_md['Vascular']"
   ]
  },
  {
   "cell_type": "raw",
   "id": "42e8f098-9181-46f6-9180-2c4076b767ff",
   "metadata": {},
   "source": [
    "new_test_set = pd.read_excel('../new_test_set/new_test_set_1.xlsx')\n",
    "selected_columns2 = ['IDs', 'Vascular'] + [f\"zr{i:03d}\" for i in range(128)]\n",
    "X_t = new_test_set.drop(selected_columns2, axis=1)\n",
    "y_t = new_test_set['Vascular']"
   ]
  },
  {
   "cell_type": "raw",
   "id": "3c265b84-8492-41d0-a87e-d1d319609411",
   "metadata": {},
   "source": [
    "x_train = X.append(X_t)\n",
    "y_train = y.append(y_t)"
   ]
  },
  {
   "cell_type": "raw",
   "id": "6fbc4ada-ab07-4553-9232-a0444a767751",
   "metadata": {},
   "source": [
    "rf_classifier = RandomForestClassifier()\n",
    "rfe = RFE(estimator=rf_classifier, n_features_to_select=10)"
   ]
  },
  {
   "cell_type": "raw",
   "id": "30ad697d-38d7-4ead-9f67-17f6c3ee56d5",
   "metadata": {},
   "source": [
    "X_selected = rfe.fit_transform(x_train, y_train)\n",
    "selected_features = X.columns[rfe.support_]"
   ]
  },
  {
   "cell_type": "raw",
   "id": "c4a08d53-e3b3-49d2-92aa-1f25eceab075",
   "metadata": {},
   "source": [
    "X_selected = x_train[['BMI', 'zl005', 'zl036', 'zl054', 'zl066', 'zl075', 'zl084', 'zl115',\n",
    "       'zl117', 'zl121']]"
   ]
  },
  {
   "cell_type": "raw",
   "id": "93125523-d2fc-4e41-ad07-88efe3a0c3f4",
   "metadata": {},
   "source": [
    "selected_features"
   ]
  },
  {
   "cell_type": "raw",
   "id": "076096b7-8e33-4df9-89db-2627ec35a76d",
   "metadata": {},
   "source": [
    "y_train"
   ]
  },
  {
   "cell_type": "raw",
   "id": "3e0ed2ae-f0d6-41cb-aac2-d1e7bd46dd86",
   "metadata": {},
   "source": [
    "X_train, X_test, y_train, y_test = skms.train_test_split(X_selected, y_train, test_size=test_size, random_state=random_seed)\n",
    "X_train_rows, y_train_rows = X_train.shape[0], y_train.shape[0]\n",
    "X_test_rows, y_test_rows = test_x.shape[0], test_y.shape[0]\n",
    "train_rows, test_rows = -1, -1"
   ]
  },
  {
   "cell_type": "raw",
   "id": "5ad5a565-6e62-498e-8cdf-fd859f014af7",
   "metadata": {},
   "source": [
    "features = X_selected.columns.tolist()"
   ]
  },
  {
   "cell_type": "raw",
   "id": "b5cf879e-cbbb-468b-b1c6-63c749701c67",
   "metadata": {},
   "source": [
    "X_t_selected = X_t[['BMI', 'zl005', 'zl036', 'zl054', 'zl066', 'zl075', 'zl084', 'zl115',\n",
    "       'zl117', 'zl121']]"
   ]
  },
  {
   "cell_type": "raw",
   "id": "f52fba20-3f91-427f-bf1a-619d3f750f24",
   "metadata": {},
   "source": [
    "test_x = X_test.append(X_t_selected)"
   ]
  },
  {
   "cell_type": "raw",
   "id": "e50ef859-1054-4318-a2ea-b65e6d9513bc",
   "metadata": {},
   "source": [
    "test_y = y_test.append(y_t)"
   ]
  },
  {
   "cell_type": "raw",
   "id": "ac54aa80-8ae7-4e48-80fe-eb6e03987f8b",
   "metadata": {},
   "source": [
    "if X_train_rows == y_train_rows:\n",
    "    train_rows = X_train_rows\n",
    "\n",
    "if X_test_rows == y_test_rows:\n",
    "    test_rows = X_test_rows"
   ]
  },
  {
   "cell_type": "raw",
   "id": "641b5100-7901-4a2f-b6b3-2d93bb162c02",
   "metadata": {},
   "source": [
    "print(len(y_train[y_train==0]))\n",
    "print(len(y_train[y_train==1]))"
   ]
  },
  {
   "cell_type": "code",
   "execution_count": null,
   "id": "fd027a3f-1b80-4233-8055-82321c9e8537",
   "metadata": {},
   "outputs": [],
   "source": [
    "rows, cols = X_selected.shape\n",
    "print(f'> features = {len(features)}')\n",
    "print(f'> training set = {train_rows} ({round(train_rows*1.0/rows,3)})')\n",
    "print(f'> testing set = {test_rows} ({round(test_rows*1.0/rows,3)}) \\n')"
   ]
  },
  {
   "cell_type": "raw",
   "id": "8a722872-4188-45a2-a803-05bcccd5a4c2",
   "metadata": {},
   "source": [
    "#----  random forest training with hyperparameter tuning\n",
    "random_grid = {'n_estimators': [190,200,210],\n",
    "               'criterion': ['gini', 'entropy'],\n",
    "               'max_features': [0.25, 0.50, 0.75],\n",
    "               'max_depth': [1],\n",
    "               'min_samples_split': [50,100,120],\n",
    "               'min_samples_leaf': [200,210,230,250],\n",
    "               'bootstrap': [True, False],\n",
    "               'class_weight': ['balanced'],\n",
    "               'random_state': [random_seed]}"
   ]
  },
  {
   "cell_type": "raw",
   "id": "f9befe9c-d0b8-42e1-85ca-46121871b49b",
   "metadata": {},
   "source": [
    "print('> Random Forest classifier...')\n",
    "optimized_rfc = skms.RandomizedSearchCV(estimator = RandomForestClassifier(), \n",
    "                                        param_distributions = random_grid, \n",
    "                                        n_iter = 200, \n",
    "                                        cv = 5, \n",
    "                                        scoring=['roc_auc'],\n",
    "                                        refit ='roc_auc',\n",
    "                                        verbose=1, \n",
    "                                        n_jobs = -1,\n",
    "                                        random_state = random_seed, \n",
    "                                        return_train_score= True)"
   ]
  },
  {
   "cell_type": "raw",
   "id": "03a85c7b-6eae-45a0-ba34-422810678167",
   "metadata": {},
   "source": [
    "optimized_rfc.fit(X_train, np.ravel(y_train))\n",
    "print('\\n')"
   ]
  },
  {
   "cell_type": "raw",
   "id": "22bb70c4-6ff0-4c30-bbfe-136138155c0e",
   "metadata": {},
   "source": [
    "#----  obtaining results of the grid run\n",
    "cv_results = optimized_rfc.cv_results_\n",
    "cv_results_df = pd.DataFrame(cv_results)"
   ]
  },
  {
   "cell_type": "raw",
   "id": "263ecc6d-c454-4f73-bd86-d517bd3bdacd",
   "metadata": {},
   "source": [
    "cv_results_df[['split0_test_roc_auc', 'split1_test_roc_auc', 'split2_test_roc_auc', 'mean_test_roc_auc', 'std_test_roc_auc', 'rank_test_roc_auc']].sort_values(by ='rank_test_roc_auc')"
   ]
  },
  {
   "cell_type": "raw",
   "id": "776a5263-982e-4e88-b854-22355370492e",
   "metadata": {},
   "source": [
    "cv_results_df[['mean_train_roc_auc', 'mean_test_roc_auc', 'rank_test_roc_auc']].sort_values(by ='rank_test_roc_auc')"
   ]
  },
  {
   "cell_type": "raw",
   "id": "4b6bef6a-8b17-4f62-a6c2-8289128533d2",
   "metadata": {},
   "source": [
    "best_params = optimized_rfc.best_params_\n",
    "best_score = optimized_rfc.best_score_\n",
    "print(f'> best hyperparameters = {best_params}')\n",
    "print(f'> best cv score = {best_score} \\n')"
   ]
  },
  {
   "cell_type": "raw",
   "id": "a2e676ce-53ea-4eb3-9b1a-b9e1c856927d",
   "metadata": {},
   "source": [
    "y_train_pred = optimized_rfc.predict(X_train)\n",
    "y_train_pred_proba = optimized_rfc.predict_proba(X_train)[:, 1]\n",
    "accuracy_train = round(accuracy_score(y_train, y_train_pred),3)\n",
    "roc_auc_train = round(roc_auc_score(y_train, y_train_pred_proba),3)\n",
    "recall_train = round(recall_score(y_train, y_train_pred),3)\n",
    "precision_train = round(precision_score(y_train, y_train_pred),3)"
   ]
  },
  {
   "cell_type": "raw",
   "id": "708d008b-a06c-462f-85d5-0b95f7365eb9",
   "metadata": {},
   "source": [
    "y_pred = optimized_rfc.predict(X_test)\n",
    "y_pred_proba = optimized_rfc.predict_proba(X_test)[:, 1]\n",
    "accuracy_test = round(accuracy_score(y_test, y_pred),3)\n",
    "roc_auc_test = round(roc_auc_score(y_test, y_pred_proba),3)\n",
    "recall_test = round(recall_score(y_test, y_pred),3)\n",
    "precision_test = round(precision_score(y_test, y_pred),3)\n",
    "tn, fp, fn, tp = confusion_matrix(y_test, y_pred).ravel()"
   ]
  },
  {
   "cell_type": "raw",
   "id": "b0d52b5d-4119-42fd-a401-1a776331dadf",
   "metadata": {},
   "source": [
    "print('> evaluation metrics \\n')\n",
    "print('%-10s %20s %10s' % ('metric','training','testing'))\n",
    "print('%-10s %20s %10s' % ('roc auc', roc_auc_train, roc_auc_test))\n",
    "print('%-10s %20s %10s' % ('accuracy', accuracy_train, accuracy_test))\n",
    "print('%-10s %20s %10s' % ('recall', recall_train, recall_test))\n",
    "print('%-10s %20s %10s' % ('precision', precision_train, precision_test))\n",
    "print('\\n')"
   ]
  },
  {
   "cell_type": "raw",
   "id": "396b10ba-0886-48cc-9b8e-db509a6fd60a",
   "metadata": {},
   "source": [
    "print('> confusion matrix \\n')\n",
    "print(tn, fp, fn, tp)\n",
    "print('\\n')"
   ]
  },
  {
   "cell_type": "raw",
   "id": "ea529fb1-9e9b-4475-aa86-b1650136ff96",
   "metadata": {},
   "source": [
    "fpr, tpr, _ = roc_curve(y_test, y_pred_proba)\n",
    "roc_auc = auc(fpr, tpr)"
   ]
  },
  {
   "cell_type": "raw",
   "id": "b99cd823-0d5f-4990-a098-ae38d6b67f47",
   "metadata": {},
   "source": [
    "fpr_tpr = pd.DataFrame(data=np.array([fpr, tpr]).T, columns=[\"fpr\", \"tpr\"])\n",
    "fpr_tpr.to_excel(\"fpr_tpr_le_mtdt.xlsx\", index=False)"
   ]
  },
  {
   "cell_type": "raw",
   "id": "bc3537f7-667c-4355-af5b-cbe3fd700c8f",
   "metadata": {},
   "source": [
    "#----  getting feature importance\n",
    "optimized_rfc_importance = optimized_rfc.best_estimator_.feature_importances_\n",
    "indices = np.argsort(-1*optimized_rfc_importance)\n",
    "rfc_feature_imp_df = pd.DataFrame(optimized_rfc_importance, index=pd.DataFrame(X_test).columns, columns=['importance'])\n",
    "rfc_feature_imp_df.sort_values(by='importance', ascending=False, inplace=True)"
   ]
  },
  {
   "cell_type": "raw",
   "id": "c3338f3b-c644-4917-b3cc-7b7757c4c643",
   "metadata": {},
   "source": [
    "# summarize feature importance\n",
    "print('> feature importance')\n",
    "for i in indices:\n",
    "    print('%-8s %-20s' % (round(optimized_rfc_importance[i], 4), f'({selected_features[i]})'))"
   ]
  },
  {
   "cell_type": "raw",
   "id": "7cb1a4b4-8866-4e42-b713-014b167eae3e",
   "metadata": {},
   "source": [
    "# feature importance plot\n",
    "plt.style.use('seaborn')\n",
    "fig, ax = plt.subplots()\n",
    "ax.barh(range(len(indices)), optimized_rfc_importance[indices], align='center')\n",
    "ax.set_yticks(range(len(indices)))\n",
    "#ax.set_yticklabels([\"RFNL-R\", \"RFNL-L\",\"ISOS-RPE\" ], fontsize=12)\n",
    "ax.set_yticklabels([features[i] for i in indices], fontsize=12)\n",
    "ax.invert_yaxis()\n",
    "ax.set_title('Feature Importances', fontsize=18, fontweight='bold')\n",
    "ax.set_xlabel('Relative Importance', fontsize=18, fontweight='bold')\n",
    "ax.set_ylabel('Features', fontsize=18, fontweight='bold')\n",
    "ax.spines['left'].set_color('black')\n",
    "ax.spines['left'].set_linewidth(2)\n",
    "ax.spines['bottom'].set_color('black')\n",
    "ax.spines['bottom'].set_linewidth(2)\n",
    "ax.grid(True)\n",
    "#fig.savefig('feature_importance_plot.png')"
   ]
  },
  {
   "cell_type": "raw",
   "id": "876ef9cf-f5fe-42db-991f-dcb38346e628",
   "metadata": {},
   "source": [
    "# ROC curve\n",
    "# print(plt.style.available)\n",
    "plt.style.use('seaborn')\n",
    "fig, ax = plt.subplots()\n",
    "ax.plot(fpr, tpr)\n",
    "ax.plot([0, 1], [0, 1], linestyle='--', lw=2, color='r', label='Chance', alpha=.8)\n",
    "ax.set_title('ROC Curve (auc = %0.3f)' % roc_auc, fontsize=22, fontweight='bold')\n",
    "ax.set_xlabel('False Positive Rate', fontsize=16, fontweight='bold')\n",
    "ax.set_ylabel('True Positive Rate', fontsize=16, fontweight='bold')\n",
    "ax.spines['left'].set_color('black')\n",
    "ax.spines['left'].set_linewidth(2)\n",
    "ax.spines['bottom'].set_color('black')\n",
    "ax.spines['bottom'].set_linewidth(2)\n",
    "ax.grid(True)"
   ]
  },
  {
   "cell_type": "code",
   "execution_count": null,
   "id": "333ecb49-8120-4c14-bb8e-92dbcf57c8cd",
   "metadata": {},
   "outputs": [],
   "source": []
  }
 ],
 "metadata": {
  "kernelspec": {
   "display_name": "Python 3 (ipykernel)",
   "language": "python",
   "name": "python3"
  },
  "language_info": {
   "codemirror_mode": {
    "name": "ipython",
    "version": 3
   },
   "file_extension": ".py",
   "mimetype": "text/x-python",
   "name": "python",
   "nbconvert_exporter": "python",
   "pygments_lexer": "ipython3",
   "version": "3.9.6"
  }
 },
 "nbformat": 4,
 "nbformat_minor": 5
}
