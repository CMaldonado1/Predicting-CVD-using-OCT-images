{
 "cells": [
  {
   "cell_type": "raw",
   "id": "1b11d53e-6307-4c24-a3b9-5753822fe6a5",
   "metadata": {},
   "source": [
    "import torch\n",
    "import numpy as np\n",
    "import pandas as pd\n",
    "import torchvision.transforms.functional as F\n",
    "import torchvision.transforms as transforms\n",
    "import matplotlib.pyplot as plt\n",
    "import torchvision.transforms as transforms\n",
    "from sklearn.decomposition import PCA\n",
    "import torchvision.transforms as T\n",
    "from oct_ml_vae_fc import VAE_OCT, classifier_oct, VAE_classifier_OCT  #_class\n",
    "from pl_datamodule_vae_fc import OCT_DM, MM\n",
    "from sklearn import preprocessing\n",
    "import torch.nn as nn\n",
    "from captum.attr import Occlusion, IntegratedGradients, LayerConductance\n",
    "from sklearn.feature_selection import RFE\n",
    "from sklearn.ensemble import RandomForestClassifier\n",
    "import sklearn.model_selection as skms\n",
    "from sklearn.metrics import accuracy_score, precision_score, recall_score, roc_auc_score, confusion_matrix, roc_curve, auc"
   ]
  },
  {
   "cell_type": "raw",
   "id": "3d8dbfb9-7738-4369-b840-e2784eca1fe2",
   "metadata": {},
   "source": [
    "random_seed = 295471\n",
    "test_size = 0.2\n",
    "train_size = 1-test_size"
   ]
  },
  {
   "cell_type": "raw",
   "id": "9189804f-c5dd-49fd-a03c-6e9aa0dc62d7",
   "metadata": {},
   "source": [
    "zs_be = pd.read_excel('zs_be_mtdt.xlsx')\n",
    "selected_columns = ['ID', 'Vascular'] + [f\"zr{i:03d}\" for i in range(128)]\n",
    "zs_re = zs_be[selected_columns]\n",
    "X = zs_re.drop(['Vascular','ID'], axis=1)\n",
    "y = zs_re['Vascular']"
   ]
  },
  {
   "cell_type": "raw",
   "id": "9b3bc04d-82c2-4258-abb6-15dbe9669e1e",
   "metadata": {},
   "source": [
    "new_test_set = pd.read_excel('../new_test_set/new_test_set_1.xlsx')\n",
    "selected_columns2 = ['IDs', 'Vascular'] + [f\"zr{i:03d}\" for i in range(128)]\n",
    "zs_le_test = new_test_set[selected_columns2]\n",
    "X_t = zs_le_test.drop(['Vascular','IDs'], axis=1)\n",
    "y_t = zs_le_test['Vascular']"
   ]
  },
  {
   "cell_type": "raw",
   "id": "e6935915-d291-4955-958d-cbf53b0385ce",
   "metadata": {},
   "source": [
    "x_train = X.append(X_t)\n",
    "y_train = y.append(y_t)"
   ]
  },
  {
   "cell_type": "raw",
   "id": "041967a0-fcd9-4e31-a3a5-a4e7fad295b7",
   "metadata": {},
   "source": [
    "rf_classifier = RandomForestClassifier()\n",
    "rfe = RFE(estimator=rf_classifier, n_features_to_select=10)"
   ]
  },
  {
   "cell_type": "raw",
   "id": "959217b6-437d-46e4-bb7c-eaa0f0bf7bc7",
   "metadata": {},
   "source": [
    "X_selected = rfe.fit_transform(x_train, y_train)\n",
    "selected_features = X.columns[rfe.support_]"
   ]
  },
  {
   "cell_type": "raw",
   "id": "550c589a-bbb0-4eab-af32-ac0f9ebf8451",
   "metadata": {
    "scrolled": true
   },
   "source": [
    "X_selected = X[['zr002', 'zr007', 'zr063', 'zr067', 'zr072']]"
   ]
  },
  {
   "cell_type": "raw",
   "id": "2d76eaf1-dd01-4d60-8ae5-338f461605f7",
   "metadata": {},
   "source": [
    "adasyn = ADASYN(random_state=random_seed)\n",
    "X_train_oversampled, y_train_oversampled = adasyn.fit_resample(X_selected, y)"
   ]
  },
  {
   "cell_type": "raw",
   "id": "5a0564de-945e-4547-895a-d2162f769084",
   "metadata": {},
   "source": [
    "sm = SMOTE()\n",
    "X_res, y_res = sm.fit_resample(X_selected, y)"
   ]
  },
  {
   "cell_type": "raw",
   "id": "cb425651-0190-4bf9-8c2d-7f5d1a867ebf",
   "metadata": {},
   "source": [
    "X_selected.shape"
   ]
  },
  {
   "cell_type": "raw",
   "id": "0df86775-e3b1-4ad5-a9e0-caaa8bd5743e",
   "metadata": {},
   "source": [
    "X_train_oversampled.shape"
   ]
  },
  {
   "cell_type": "raw",
   "id": "517ae1d3-02ef-4edd-9c56-06489fd1b0c1",
   "metadata": {},
   "source": [
    "X_res.shape"
   ]
  },
  {
   "cell_type": "raw",
   "id": "2a5bda5f-a542-4c91-8208-fa59c6998c15",
   "metadata": {},
   "source": [
    "X_train, X_test, y_train, y_test = skms.train_test_split(X_selected, y_train, test_size=test_size, random_state=random_seed)\n",
    "X_train_rows, y_train_rows = X_train.shape[0], y_train.shape[0]\n",
    "X_test_rows, y_test_rows = X_test.shape[0], y_test.shape[0]\n",
    "train_rows, test_rows = -1, -1"
   ]
  },
  {
   "cell_type": "raw",
   "id": "dd5b6d91-bffd-425a-8600-84e3e49495d7",
   "metadata": {},
   "source": [
    "if X_train_rows == y_train_rows:\n",
    "    train_rows = X_train_rows\n",
    "\n",
    "if X_test_rows == y_test_rows:\n",
    "    test_rows = X_test_rows"
   ]
  },
  {
   "cell_type": "raw",
   "id": "57c5667e-66ea-4984-8c34-03595dada606",
   "metadata": {},
   "source": [
    "features = X_selected.columns.tolist()"
   ]
  },
  {
   "cell_type": "code",
   "execution_count": null,
   "id": "a257d84f-6dd6-4576-b4ea-50fa3bdfc0ee",
   "metadata": {},
   "outputs": [],
   "source": [
    "print(len(y_train[y_train==0]))\n",
    "print(len(y_train[y_train==1]))"
   ]
  },
  {
   "cell_type": "raw",
   "id": "b2dc29c6-5c83-4e81-aeb9-9feaba06d515",
   "metadata": {},
   "source": [
    "#----  random forest training with hyperparameter tuning\n",
    "random_grid = {'n_estimators': [5,8,9],\n",
    "               'criterion': ['gini', 'entropy'],\n",
    "               'max_features': [0.25, 0.50, 0.75],\n",
    "               'max_depth': [2],\n",
    "               'min_samples_split': [3,7,10],\n",
    "               'min_samples_leaf': [3,7,10],\n",
    "               'bootstrap': [True, False],\n",
    "               'class_weight': ['balanced'],\n",
    "               'random_state': [random_seed]}"
   ]
  },
  {
   "cell_type": "raw",
   "id": "06e9d236-ae74-42c8-8fa5-cfb12052adc9",
   "metadata": {},
   "source": [
    "print('> Random Forest classifier...')\n",
    "optimized_rfc = skms.RandomizedSearchCV(estimator = RandomForestClassifier(), \n",
    "                                        param_distributions = random_grid, \n",
    "                                        n_iter = 200, \n",
    "                                        cv = 5, \n",
    "                                        scoring=['roc_auc'],\n",
    "                                        refit ='roc_auc',\n",
    "                                        verbose=1, \n",
    "                                        n_jobs = -1,\n",
    "                                        random_state = random_seed, \n",
    "                                        return_train_score= True)"
   ]
  },
  {
   "cell_type": "raw",
   "id": "bc4210f5-f2cc-4c6e-853a-d16be2186614",
   "metadata": {},
   "source": [
    "optimized_rfc.fit(X_train, np.ravel(y_train))\n",
    "print('\\n')"
   ]
  },
  {
   "cell_type": "raw",
   "id": "59581484-68aa-484c-bfaf-ce070373115e",
   "metadata": {},
   "source": [
    "#----  obtaining results of the grid run\n",
    "cv_results = optimized_rfc.cv_results_\n",
    "cv_results_df = pd.DataFrame(cv_results)"
   ]
  },
  {
   "cell_type": "raw",
   "id": "ee3effa9-06ce-4e47-9d5d-a8e6f33c3f70",
   "metadata": {},
   "source": [
    "cv_results_df[['split0_test_roc_auc', 'split1_test_roc_auc', 'split2_test_roc_auc', 'mean_test_roc_auc', 'std_test_roc_auc', 'rank_test_roc_auc']].sort_values(by ='rank_test_roc_auc')"
   ]
  },
  {
   "cell_type": "raw",
   "id": "d0143248-b14e-45ae-bc80-75b3bbd47e65",
   "metadata": {},
   "source": [
    "cv_results_df[['mean_train_roc_auc', 'mean_test_roc_auc', 'rank_test_roc_auc']].sort_values(by ='rank_test_roc_auc')"
   ]
  },
  {
   "cell_type": "raw",
   "id": "c9f298cc-2471-426c-a9c0-bde948fe821b",
   "metadata": {},
   "source": [
    "best_params = optimized_rfc.best_params_\n",
    "best_score = optimized_rfc.best_score_\n",
    "print(f'> best hyperparameters = {best_params}')\n",
    "print(f'> best cv score = {best_score} \\n')"
   ]
  },
  {
   "cell_type": "raw",
   "id": "2bf32401-061a-49fe-ac07-935280676a8e",
   "metadata": {},
   "source": [
    "y_train_pred = optimized_rfc.predict(X_train)\n",
    "y_train_pred_proba = optimized_rfc.predict_proba(X_train)[:, 1]\n",
    "accuracy_train = round(accuracy_score(y_train, y_train_pred),3)\n",
    "roc_auc_train = round(roc_auc_score(y_train, y_train_pred_proba),3)\n",
    "recall_train = round(recall_score(y_train, y_train_pred),3)\n",
    "precision_train = round(precision_score(y_train, y_train_pred),3)"
   ]
  },
  {
   "cell_type": "raw",
   "id": "3a8e5d50-688c-4b15-8a6a-a3cad010a446",
   "metadata": {},
   "source": [
    "y_pred = optimized_rfc.predict(X_test)\n",
    "y_pred_proba = optimized_rfc.predict_proba(X_test)[:, 1]\n",
    "accuracy_test = round(accuracy_score(y_test, y_pred),2)\n",
    "roc_auc_test = round(roc_auc_score(y_test, y_pred_proba),2)\n",
    "recall_test = round(recall_score(y_test, y_pred),2)\n",
    "precision_test = round(precision_score(y_test, y_pred),2)\n",
    "tn, fp, fn, tp = confusion_matrix(y_test, y_pred).ravel()"
   ]
  },
  {
   "cell_type": "raw",
   "id": "00bd8f85-0286-4d04-8dd6-5be421341639",
   "metadata": {},
   "source": [
    "print('> evaluation metrics \\n')\n",
    "print('%-10s %20s %10s' % ('metric','training','testing'))\n",
    "print('%-10s %20s %10s' % ('roc auc', roc_auc_train, roc_auc_test))\n",
    "print('%-10s %20s %10s' % ('accuracy', accuracy_train, accuracy_test))\n",
    "print('%-10s %20s %10s' % ('recall', recall_train, recall_test))\n",
    "print('%-10s %20s %10s' % ('precision', precision_train, precision_test))\n",
    "print('\\n')"
   ]
  },
  {
   "cell_type": "raw",
   "id": "9cf0be9f-c50d-4252-94d9-832c52295552",
   "metadata": {},
   "source": [
    "fpr, tpr, _ = roc_curve(y_test, y_pred_proba)\n",
    "roc_auc = auc(fpr, tpr)"
   ]
  },
  {
   "cell_type": "raw",
   "id": "84effa1b-ef29-4a98-9536-6ba932b5c815",
   "metadata": {},
   "source": [
    "fpr_tpr = pd.DataFrame(data=np.array([fpr, tpr]).T, columns=[\"fpr\", \"tpr\"])\n",
    "fpr_tpr.to_excel(\"fpr_tpr_re.xlsx\", index=False)"
   ]
  },
  {
   "cell_type": "raw",
   "id": "df9c3f96-9806-4a84-9d7f-b2f813f8f648",
   "metadata": {},
   "source": [
    "tn, fp, fn, tp"
   ]
  },
  {
   "cell_type": "raw",
   "id": "89c26332-0daa-460b-85dc-a37094c1702a",
   "metadata": {},
   "source": [
    "fpr_tpr = pd.DataFrame(data=np.array([fpr, tpr]).T, columns=[\"fpr\", \"tpr\"])\n",
    "fpr_tpr.to_excel(\"fpr_tpr_re.xlsx\", index=False)"
   ]
  },
  {
   "cell_type": "raw",
   "id": "e8b8716d-9fb9-475b-81cb-cb2e3a1a335f",
   "metadata": {},
   "source": [
    "#----  getting feature importance\n",
    "optimized_rfc_importance = optimized_rfc.best_estimator_.feature_importances_\n",
    "indices = np.argsort(-1*optimized_rfc_importance)\n",
    "rfc_feature_imp_df = pd.DataFrame(optimized_rfc_importance, index=pd.DataFrame(X_test).columns, columns=['importance'])\n",
    "rfc_feature_imp_df.sort_values(by='importance', ascending=False, inplace=True)"
   ]
  },
  {
   "cell_type": "raw",
   "id": "bf676e8c-4ddb-4bb3-8062-2d0c8d0fad5b",
   "metadata": {},
   "source": [
    "# summarize feature importance\n",
    "print('> feature importance')\n",
    "for i in indices:\n",
    "    print('%-8s %-20s' % (round(optimized_rfc_importance[i], 4), f'({selected_features[i]})'))"
   ]
  },
  {
   "cell_type": "code",
   "execution_count": null,
   "id": "10499a96-6427-4507-9fb1-e58f731a4c33",
   "metadata": {},
   "outputs": [],
   "source": [
    "# feature importance plot\n",
    "plt.style.use('seaborn')\n",
    "fig, ax = plt.subplots()\n",
    "ax.barh(range(len(indices[:25])), optimized_rfc_importance[indices[:25]], align='center')\n",
    "ax.set_yticks(range(len(indices[:25])))\n",
    "#ax.set_yticklabels([\"RFNL-R\", \"RFNL-L\",\"ISOS-RPE\" ], fontsize=12)\n",
    "ax.set_yticklabels([selected_features[i] for i in indices[:25]], fontsize=12)\n",
    "ax.invert_yaxis()\n",
    "ax.set_title('Feature Importances', fontsize=18, fontweight='bold')\n",
    "ax.set_xlabel('Relative Importance', fontsize=18, fontweight='bold')\n",
    "ax.set_ylabel('Features', fontsize=18, fontweight='bold')\n",
    "ax.spines['left'].set_color('black')\n",
    "ax.spines['left'].set_linewidth(2)\n",
    "ax.spines['bottom'].set_color('black')\n",
    "ax.spines['bottom'].set_linewidth(2)\n",
    "ax.grid(True)\n",
    "#fig.savefig('feature_importance_plot.png')"
   ]
  },
  {
   "cell_type": "code",
   "execution_count": null,
   "id": "1257102c-9d9f-4b02-a9d0-5955f524ac46",
   "metadata": {},
   "outputs": [],
   "source": []
  },
  {
   "cell_type": "code",
   "execution_count": null,
   "id": "333ecb49-8120-4c14-bb8e-92dbcf57c8cd",
   "metadata": {},
   "outputs": [],
   "source": []
  }
 ],
 "metadata": {
  "kernelspec": {
   "display_name": "Python 3 (ipykernel)",
   "language": "python",
   "name": "python3"
  },
  "language_info": {
   "codemirror_mode": {
    "name": "ipython",
    "version": 3
   },
   "file_extension": ".py",
   "mimetype": "text/x-python",
   "name": "python",
   "nbconvert_exporter": "python",
   "pygments_lexer": "ipython3",
   "version": "3.9.6"
  }
 },
 "nbformat": 4,
 "nbformat_minor": 5
}
