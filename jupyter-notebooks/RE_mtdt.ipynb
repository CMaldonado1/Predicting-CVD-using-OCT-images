{
 "cells": [
  {
   "cell_type": "raw",
   "id": "6666945e-e307-4385-b473-baca2ce79f4b",
   "metadata": {},
   "source": [
    "import torch\n",
    "import numpy as np\n",
    "import pandas as pd\n",
    "import torchvision.transforms.functional as F\n",
    "import torchvision.transforms as transforms\n",
    "import matplotlib.pyplot as plt\n",
    "import torchvision.transforms as transforms\n",
    "from sklearn.decomposition import PCA\n",
    "import torchvision.transforms as T\n",
    "from oct_ml_vae_fc import VAE_OCT, classifier_oct, VAE_classifier_OCT  #_class\n",
    "from pl_datamodule_vae_fc import OCT_DM, MM\n",
    "from sklearn import preprocessing\n",
    "import torch.nn as nn\n",
    "from captum.attr import Occlusion, IntegratedGradients, LayerConductance\n",
    "from sklearn.feature_selection import RFE\n",
    "from sklearn.ensemble import RandomForestClassifier\n",
    "import sklearn.model_selection as skms\n",
    "from sklearn.metrics import accuracy_score, precision_score, recall_score, roc_auc_score, confusion_matrix, roc_curve, auc"
   ]
  },
  {
   "cell_type": "raw",
   "id": "f1119071-ef43-4f24-aae0-d9abcd4f9949",
   "metadata": {},
   "source": [
    "random_seed = 295471\n",
    "test_size = 0.2\n",
    "train_size = 1-test_size"
   ]
  },
  {
   "cell_type": "raw",
   "id": "a9c61ce9-4d1a-4970-bbce-8681624794c1",
   "metadata": {},
   "source": [
    "zs_be_md = pd.read_excel('zs_be_mtdt.xlsx')\n",
    "selected_columns = ['ID', 'Vascular'] + [f\"zl{i:03d}\" for i in range(128)]\n",
    "X = zs_be_md.drop(selected_columns, axis=1)\n",
    "y = zs_be_md['Vascular']"
   ]
  },
  {
   "cell_type": "raw",
   "id": "d8abd1f1-3b94-4142-9609-3ade56861b46",
   "metadata": {},
   "source": [
    "new_test_set = pd.read_excel('../new_test_set/new_test_set_1.xlsx')\n",
    "selected_columns2 = ['IDs', 'Vascular'] + [f\"zl{i:03d}\" for i in range(128)]\n",
    "X_t = new_test_set.drop(selected_columns2, axis=1)\n",
    "y_t = new_test_set['Vascular']"
   ]
  },
  {
   "cell_type": "raw",
   "id": "3c466ff7-1691-4243-ad0a-0d2ad2b2812e",
   "metadata": {},
   "source": [
    "x_train = X.append(X_t)\n",
    "y_train = y.append(y_t)"
   ]
  },
  {
   "cell_type": "raw",
   "id": "edb801d2-4a61-4d33-9f3f-c42c7aef70d3",
   "metadata": {},
   "source": [
    "rf_classifier = RandomForestClassifier()\n",
    "rfe = RFE(estimator=rf_classifier, n_features_to_select=10)"
   ]
  },
  {
   "cell_type": "raw",
   "id": "b2c3e8ba-1f2f-47a7-8388-a012eac405d5",
   "metadata": {},
   "source": [
    "X_selected = rfe.fit_transform(x_train, y_train)\n",
    "selected_features = X.columns[rfe.support_]"
   ]
  },
  {
   "cell_type": "raw",
   "id": "a4315559-6ee7-433b-a77b-96d51485c1c4",
   "metadata": {},
   "source": [
    "X_selected = x_train[['BMI', 'HbA1c', 'zr007', 'zr029', 'zr032', 'zr067', 'zr072', 'zr074',\n",
    "       'zr110', 'zr113']]"
   ]
  },
  {
   "cell_type": "raw",
   "id": "3887bed5-0b86-43da-bb9d-b3598505c30d",
   "metadata": {},
   "source": [
    "selected_features"
   ]
  },
  {
   "cell_type": "raw",
   "id": "007d3157-e598-485b-8bfe-a9cbae90df50",
   "metadata": {},
   "source": [
    "X_train, X_test, y_train, y_test = skms.train_test_split(X_selected, y_train, test_size=test_size, random_state=random_seed)\n",
    "X_train_rows, y_train_rows = X_train.shape[0], y_train.shape[0]\n",
    "X_test_rows, y_test_rows = X_test.shape[0], y_test.shape[0]\n",
    "train_rows, test_rows = -1, -1"
   ]
  },
  {
   "cell_type": "raw",
   "id": "9be7080a-7cea-4eee-9a9e-621786497cda",
   "metadata": {},
   "source": [
    "if X_train_rows == y_train_rows:\n",
    "    train_rows = X_train_rows\n",
    "\n",
    "if X_test_rows == y_test_rows:\n",
    "    test_rows = X_test_rows"
   ]
  },
  {
   "cell_type": "raw",
   "id": "2bc187c3-889f-48d8-b749-270571fc2948",
   "metadata": {},
   "source": [
    "features = X_selected.columns.tolist()"
   ]
  },
  {
   "cell_type": "raw",
   "id": "2c5abc33-ca89-41e4-b1aa-3a23d9227d6e",
   "metadata": {},
   "source": [
    "rows, cols = X_selected.shape\n",
    "print(f'> features = {len(features)}')\n",
    "print(f'> training set = {train_rows} ({round(train_rows*1.0/rows,3)})')\n",
    "print(f'> testing set = {test_rows} ({round(test_rows*1.0/rows,3)}) \\n')"
   ]
  },
  {
   "cell_type": "raw",
   "id": "6aa1d3a0-bda8-4e69-8caa-92efa45cf6e0",
   "metadata": {},
   "source": [
    "print(len(y_train[y_train==0]))\n",
    "print(len(y_train[y_train==1]))"
   ]
  },
  {
   "cell_type": "code",
   "execution_count": null,
   "id": "deb9dbc0-5046-4c8c-b704-dceea0612e20",
   "metadata": {},
   "outputs": [],
   "source": [
    "#----  random forest training with hyperparameter tuning\n",
    "random_grid = {'n_estimators': [110,120,130],\n",
    "               'criterion': ['gini', 'entropy'],\n",
    "               'max_features': [0.25,0.5, 0.75],\n",
    "               'max_depth': [1],\n",
    "               'min_samples_split': [10,20,30],\n",
    "               'min_samples_leaf': [60,70,80],\n",
    "               'bootstrap': [True, False],\n",
    "               'class_weight': ['balanced'],\n",
    "               'random_state': [random_seed]}"
   ]
  },
  {
   "cell_type": "raw",
   "id": "a59697a3-360c-4c44-8719-7f161c34aeca",
   "metadata": {},
   "source": [
    "print('> Random Forest classifier...')\n",
    "optimized_rfc = skms.RandomizedSearchCV(estimator = RandomForestClassifier(), \n",
    "                                        param_distributions = random_grid, \n",
    "                                        n_iter = 200, \n",
    "                                        cv = 5, \n",
    "                                        scoring=['roc_auc'],\n",
    "                                        refit ='roc_auc',\n",
    "                                        verbose=1, \n",
    "                                        n_jobs = -1,\n",
    "                                        random_state = random_seed, \n",
    "                                        error_score='raise',\n",
    "                                        return_train_score= True)"
   ]
  },
  {
   "cell_type": "raw",
   "id": "1dcd6e2d-059f-4a61-b58f-61f75a9eaa91",
   "metadata": {},
   "source": [
    "optimized_rfc.fit(X_train, np.ravel(y_train))\n",
    "print('\\n')"
   ]
  },
  {
   "cell_type": "raw",
   "id": "3444df0a-5217-4015-ac8c-222dfcb0e21c",
   "metadata": {},
   "source": [
    "#----  obtaining results of the grid run\n",
    "cv_results = optimized_rfc.cv_results_\n",
    "cv_results_df = pd.DataFrame(cv_results)"
   ]
  },
  {
   "cell_type": "raw",
   "id": "786d04c4-baad-46f7-8ac7-fc47cec59d0b",
   "metadata": {},
   "source": [
    "cv_results_df[['split0_test_roc_auc', 'split1_test_roc_auc', 'split2_test_roc_auc', 'mean_test_roc_auc', 'std_test_roc_auc', 'rank_test_roc_auc']].sort_values(by ='rank_test_roc_auc')"
   ]
  },
  {
   "cell_type": "raw",
   "id": "adf2c8a1-d9b7-4e47-acf7-63085d1e9d33",
   "metadata": {},
   "source": [
    "cv_results_df[['mean_train_roc_auc', 'mean_test_roc_auc', 'rank_test_roc_auc']].sort_values(by ='rank_test_roc_auc')"
   ]
  },
  {
   "cell_type": "raw",
   "id": "72004fc2-e7d4-4fc3-bb1f-dd29961bf359",
   "metadata": {},
   "source": [
    "best_params = optimized_rfc.best_params_\n",
    "best_score = optimized_rfc.best_score_\n",
    "print(f'> best hyperparameters = {best_params}')\n",
    "print(f'> best cv score = {best_score} \\n')"
   ]
  },
  {
   "cell_type": "raw",
   "id": "2a848d27-a17a-4cba-8db6-1cddd4aae174",
   "metadata": {},
   "source": [
    "y_train_pred = optimized_rfc.predict(X_train)\n",
    "y_train_pred_proba = optimized_rfc.predict_proba(X_train)[:, 1]\n",
    "accuracy_train = round(accuracy_score(y_train, y_train_pred),3)\n",
    "roc_auc_train = round(roc_auc_score(y_train, y_train_pred_proba),3)\n",
    "recall_train = round(recall_score(y_train, y_train_pred),3)\n",
    "precision_train = round(precision_score(y_train, y_train_pred),3)"
   ]
  },
  {
   "cell_type": "raw",
   "id": "e913329b-18b6-42fb-b707-b2014c503ecf",
   "metadata": {},
   "source": [
    "y_pred = optimized_rfc.predict(X_test)\n",
    "y_pred_proba = optimized_rfc.predict_proba(X_test)[:, 1]\n",
    "accuracy_test = round(accuracy_score(y_test, y_pred),3)\n",
    "roc_auc_test = round(roc_auc_score(y_test, y_pred_proba),3)\n",
    "recall_test = round(recall_score(y_test, y_pred),3)\n",
    "precision_test = round(precision_score(y_test, y_pred),3)\n",
    "tn, fp, fn, tp = confusion_matrix(y_test, y_pred).ravel()"
   ]
  },
  {
   "cell_type": "raw",
   "id": "c8b885af-269b-4460-b3a7-6513a1bd16cc",
   "metadata": {},
   "source": [
    "print('> evaluation metrics \\n')\n",
    "print('%-10s %20s %10s' % ('metric','training','testing'))\n",
    "print('%-10s %20s %10s' % ('roc auc', roc_auc_train, roc_auc_test))\n",
    "print('%-10s %20s %10s' % ('accuracy', accuracy_train, accuracy_test))\n",
    "print('%-10s %20s %10s' % ('recall', recall_train, recall_test))\n",
    "print('%-10s %20s %10s' % ('precision', precision_train, precision_test))\n",
    "print('\\n')"
   ]
  },
  {
   "cell_type": "raw",
   "id": "ad12ec94-9e46-4454-9777-7a062aef1285",
   "metadata": {},
   "source": [
    "print('> confusion matrix \\n')\n",
    "print(tn, fp, fn, tp)\n",
    "print('\\n')"
   ]
  },
  {
   "cell_type": "raw",
   "id": "13c9c9e7-2058-45a7-87ae-3325d988485e",
   "metadata": {},
   "source": [
    "fpr, tpr, _ = roc_curve(y_test, y_pred_proba)\n",
    "roc_auc = auc(fpr, tpr)"
   ]
  },
  {
   "cell_type": "raw",
   "id": "64f63ecc-0df7-45fc-a076-27039ff02c2b",
   "metadata": {},
   "source": [
    "fpr_tpr = pd.DataFrame(data=np.array([fpr, tpr]).T, columns=[\"fpr\", \"tpr\"])\n",
    "fpr_tpr.to_excel(\"fpr_tpr_re_mtdt.xlsx\", index=False)"
   ]
  },
  {
   "cell_type": "raw",
   "id": "eb2df135-4abe-4c78-91f3-5b4bed354274",
   "metadata": {},
   "source": [
    "#----  getting feature importance\n",
    "optimized_rfc_importance = optimized_rfc.best_estimator_.feature_importances_\n",
    "indices = np.argsort(-1*optimized_rfc_importance)\n",
    "rfc_feature_imp_df = pd.DataFrame(optimized_rfc_importance, index=pd.DataFrame(X_test).columns, columns=['importance'])\n",
    "rfc_feature_imp_df.sort_values(by='importance', ascending=False, inplace=True)"
   ]
  },
  {
   "cell_type": "raw",
   "id": "3dff4fb9-a3cc-408b-bfff-bebbc0ad416f",
   "metadata": {},
   "source": [
    "# summarize feature importance\n",
    "print('> feature importance')\n",
    "for i in indices:\n",
    "    print('%-8s %-20s' % (round(optimized_rfc_importance[i], 4), f'({features[i]})'))"
   ]
  },
  {
   "cell_type": "raw",
   "id": "4717c4ed-5233-4032-9e03-16eafe80379c",
   "metadata": {},
   "source": [
    "# feature importance plot\n",
    "plt.style.use('seaborn')\n",
    "fig, ax = plt.subplots()\n",
    "ax.barh(range(len(indices)), optimized_rfc_importance[indices], align='center')\n",
    "ax.set_yticks(range(len(indices)))\n",
    "#ax.set_yticklabels([\"RFNL-R\", \"RFNL-L\",\"ISOS-RPE\" ], fontsize=12)\n",
    "ax.set_yticklabels([features[i] for i in indices], fontsize=12)\n",
    "ax.invert_yaxis()\n",
    "ax.set_title('Feature Importances', fontsize=18, fontweight='bold')\n",
    "ax.set_xlabel('Relative Importance', fontsize=18, fontweight='bold')\n",
    "ax.set_ylabel('Features', fontsize=18, fontweight='bold')\n",
    "ax.spines['left'].set_color('black')\n",
    "ax.spines['left'].set_linewidth(2)\n",
    "ax.spines['bottom'].set_color('black')\n",
    "ax.spines['bottom'].set_linewidth(2)\n",
    "ax.grid(True)\n",
    "#fig.savefig('feature_importance_plot.png')"
   ]
  },
  {
   "cell_type": "code",
   "execution_count": null,
   "id": "1257102c-9d9f-4b02-a9d0-5955f524ac46",
   "metadata": {},
   "outputs": [],
   "source": []
  },
  {
   "cell_type": "code",
   "execution_count": null,
   "id": "333ecb49-8120-4c14-bb8e-92dbcf57c8cd",
   "metadata": {},
   "outputs": [],
   "source": []
  }
 ],
 "metadata": {
  "kernelspec": {
   "display_name": "Python 3 (ipykernel)",
   "language": "python",
   "name": "python3"
  },
  "language_info": {
   "codemirror_mode": {
    "name": "ipython",
    "version": 3
   },
   "file_extension": ".py",
   "mimetype": "text/x-python",
   "name": "python",
   "nbconvert_exporter": "python",
   "pygments_lexer": "ipython3",
   "version": "3.9.6"
  }
 },
 "nbformat": 4,
 "nbformat_minor": 5
}
