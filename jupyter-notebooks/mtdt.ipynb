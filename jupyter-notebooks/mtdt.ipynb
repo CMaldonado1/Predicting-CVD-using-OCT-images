{
 "cells": [
  {
   "cell_type": "raw",
   "id": "f9217f8a-be1e-48a6-8407-b83072d33fda",
   "metadata": {},
   "source": [
    "import torch\n",
    "import numpy as np\n",
    "import pandas as pd\n",
    "import torchvision.transforms.functional as F\n",
    "import torchvision.transforms as transforms\n",
    "import matplotlib.pyplot as plt\n",
    "import torchvision.transforms as transforms\n",
    "from sklearn.decomposition import PCA\n",
    "import torchvision.transforms as T\n",
    "from oct_ml_vae_fc import VAE_OCT, classifier_oct, VAE_classifier_OCT  #_class\n",
    "from pl_datamodule_vae_fc import OCT_DM, MM\n",
    "from sklearn import preprocessing\n",
    "import torch.nn as nn\n",
    "from captum.attr import Occlusion, IntegratedGradients, LayerConductance\n",
    "from sklearn.feature_selection import RFE\n",
    "from sklearn.ensemble import RandomForestClassifier\n",
    "import sklearn.model_selection as skms\n",
    "from sklearn.metrics import accuracy_score, precision_score, recall_score, roc_auc_score, confusion_matrix, roc_curve, auc"
   ]
  },
  {
   "cell_type": "raw",
   "id": "eb1d5905-66aa-4959-9035-ff4054289046",
   "metadata": {},
   "source": [
    "random_seed = 295471\n",
    "test_size = 0.2\n",
    "train_size = 1-test_size"
   ]
  },
  {
   "cell_type": "raw",
   "id": "243b90ac-9095-4da2-9f84-5dd658a8cb54",
   "metadata": {},
   "source": [
    "zs_be_md = pd.read_excel('zs_be_mtdt.xlsx')\n",
    "selected_columns = ['ID', 'Vascular'] + ['Gender', 'DBP1', 'SBP1', 'BMI', 'Age', 'HbA1c', 'drinking']\n",
    "zs_md = zs_be_md[selected_columns]\n",
    "X = zs_md.drop(['Vascular','ID'], axis=1)\n",
    "y = zs_md['Vascular']"
   ]
  },
  {
   "cell_type": "raw",
   "id": "ca5121b1-c33a-48ff-b312-3e2715db6473",
   "metadata": {},
   "source": [
    "new_test_set = pd.read_excel('../new_test_set/new_test_set_1.xlsx')\n",
    "selected_columns2 = ['IDs', 'Vascular'] + ['Gender', 'DBP1', 'SBP1', 'BMI', 'Age', 'HbA1c', 'drinking']\n",
    "zs_le_test = new_test_set[selected_columns2]\n",
    "X_t = zs_le_test.drop(['Vascular','IDs'], axis=1)\n",
    "y_t = zs_le_test['Vascular']"
   ]
  },
  {
   "cell_type": "raw",
   "id": "853ac9e2-452a-42d4-8d3d-658848830d3c",
   "metadata": {},
   "source": [
    "x_train = X.append(X_t)\n",
    "y_train = y.append(y_t)"
   ]
  },
  {
   "cell_type": "raw",
   "id": "cd03a3c3-7f60-4bfe-b15c-9d9a91ab631b",
   "metadata": {},
   "source": [
    "X_selected1 = x_train[['BMI', 'SBP1', 'Age', 'drinking']]"
   ]
  },
  {
   "cell_type": "raw",
   "id": "138dc7e0-9fa8-47ee-aeb7-37be805f313c",
   "metadata": {},
   "source": [
    "rf_classifier = RandomForestClassifier()\n",
    "rfe = RFE(estimator=rf_classifier, n_features_to_select=4)"
   ]
  },
  {
   "cell_type": "raw",
   "id": "f285fcc7-6003-4ba5-b888-c086c0a71d90",
   "metadata": {},
   "source": [
    "X_selected = rfe.fit_transform(x_train, y_train)\n",
    "selected_features = X.columns[rfe.support_]"
   ]
  },
  {
   "cell_type": "raw",
   "id": "96348c52-bcf9-4442-8cf5-6c31b08e86c5",
   "metadata": {},
   "source": [
    "selected_features"
   ]
  },
  {
   "cell_type": "raw",
   "id": "d50ae96e-102f-4d5a-9f0d-700574dc18ca",
   "metadata": {},
   "source": [
    "features = X.columns.tolist()\n",
    "X_train, X_test, y_train, y_test = skms.train_test_split(X_selected1, y_train, test_size=test_size, random_state=random_seed)\n",
    "X_train_rows, y_train_rows = X_train.shape[0], y_train.shape[0]\n",
    "X_test_rows, y_test_rows = X_test.shape[0], y_test.shape[0]\n",
    "train_rows, test_rows = -1, -1"
   ]
  },
  {
   "cell_type": "raw",
   "id": "0a915f2e-1c08-4a39-b82b-ecbe848e4888",
   "metadata": {},
   "source": [
    "if X_train_rows == y_train_rows:\n",
    "    train_rows = X_train_rows\n",
    "\n",
    "if X_test_rows == y_test_rows:\n",
    "    test_rows = X_test_rows"
   ]
  },
  {
   "cell_type": "raw",
   "id": "c1037a8e-c6c6-438b-aab1-f70d8993a483",
   "metadata": {},
   "source": [
    "print(len(y_train[y_train==0]))\n",
    "print(len(y_train[y_train==1]))"
   ]
  },
  {
   "cell_type": "raw",
   "id": "3ca76e2e-45ab-4e52-a2e8-6d8b3bf5919d",
   "metadata": {},
   "source": [
    "rows, cols = X.shape\n",
    "print(f'> features = {len(features)}')\n",
    "print(f'> training set = {train_rows} ({round(train_rows*1.0/rows,3)})')\n",
    "print(f'> testing set = {test_rows} ({round(test_rows*1.0/rows,3)}) \\n')"
   ]
  },
  {
   "cell_type": "raw",
   "id": "15272a55-85d1-4142-b12c-7325a9f03eba",
   "metadata": {},
   "source": [
    "#----  random forest training with hyperparameter tuning\n",
    "random_grid = {'n_estimators': [300,500,700],\n",
    "               'criterion': ['gini', 'entropy'],\n",
    "               'max_features': [0.25, 0.50, 0.75],\n",
    "               'max_depth': [1],\n",
    "               'min_samples_split': [300,500,700],\n",
    "               'min_samples_leaf': [300,500,700],\n",
    "               'bootstrap': [True, False],\n",
    "               'class_weight': ['balanced'],\n",
    "               'random_state': [random_seed]}"
   ]
  },
  {
   "cell_type": "raw",
   "id": "1bdac4fc-59a7-4d21-919a-421a439d5641",
   "metadata": {},
   "source": [
    "print('> Random Forest classifier...')\n",
    "optimized_rfc = skms.RandomizedSearchCV(estimator = RandomForestClassifier(), \n",
    "                                        param_distributions = random_grid, \n",
    "                                        n_iter = 500, \n",
    "                                        cv = 5, \n",
    "                                        scoring=['roc_auc'],\n",
    "                                        refit ='roc_auc',\n",
    "                                        verbose=1, \n",
    "                                        n_jobs = -1,\n",
    "                                        random_state = random_seed, \n",
    "                                        return_train_score= True)"
   ]
  },
  {
   "cell_type": "raw",
   "id": "e310a06f-8af4-4b96-83d5-fd9711622227",
   "metadata": {},
   "source": [
    "optimized_rfc.fit(X_train, np.ravel(y_train))\n",
    "print('\\n')"
   ]
  },
  {
   "cell_type": "raw",
   "id": "f76db299-9e9b-4ed6-bec0-da75df5fe18b",
   "metadata": {},
   "source": [
    "#----  obtaining results of the grid run\n",
    "cv_results = optimized_rfc.cv_results_\n",
    "cv_results_df = pd.DataFrame(cv_results)"
   ]
  },
  {
   "cell_type": "raw",
   "id": "319ba3c1-9eaf-412a-a196-92c8ecdbea3c",
   "metadata": {},
   "source": [
    "cv_results_df[['mean_train_roc_auc', 'mean_test_roc_auc', 'rank_test_roc_auc']].sort_values(by ='rank_test_roc_auc')"
   ]
  },
  {
   "cell_type": "raw",
   "id": "f671fa58-b51c-431c-a720-1528ccb73803",
   "metadata": {},
   "source": [
    "best_params = optimized_rfc.best_params_\n",
    "best_score = optimized_rfc.best_score_\n",
    "print(f'> best hyperparameters = {best_params}')\n",
    "print(f'> best cv score = {best_score} \\n')"
   ]
  },
  {
   "cell_type": "raw",
   "id": "e08b3928-d54a-4041-8c97-717c71572a31",
   "metadata": {},
   "source": [
    "y_train_pred = optimized_rfc.predict(X_train)\n",
    "y_train_pred_proba = optimized_rfc.predict_proba(X_train)[:, 1]\n",
    "accuracy_train = round(accuracy_score(y_train, y_train_pred),3)\n",
    "roc_auc_train = round(roc_auc_score(y_train, y_train_pred_proba),3)\n",
    "recall_train = round(recall_score(y_train, y_train_pred),3)\n",
    "precision_train = round(precision_score(y_train, y_train_pred),3)"
   ]
  },
  {
   "cell_type": "raw",
   "id": "7a660c91-9816-46fb-9f3d-ef1591e20f7b",
   "metadata": {},
   "source": [
    "y_pred = optimized_rfc.predict(X_test)\n",
    "y_pred_proba = optimized_rfc.predict_proba(X_test)[:, 1]\n",
    "accuracy_test = round(accuracy_score(y_test, y_pred),3)\n",
    "roc_auc_test = round(roc_auc_score(y_test, y_pred_proba),3)\n",
    "recall_test = round(recall_score(y_test, y_pred),3)\n",
    "precision_test = round(precision_score(y_test, y_pred),3)\n",
    "tn, fp, fn, tp = confusion_matrix(y_test, y_pred).ravel()"
   ]
  },
  {
   "cell_type": "raw",
   "id": "ab1d9426-6174-40e8-af5a-d7ee1a7e695a",
   "metadata": {},
   "source": [
    "print('> evaluation metrics \\n')\n",
    "print('%-10s %20s %10s' % ('metric','training','testing'))\n",
    "print('%-10s %20s %10s' % ('roc auc', roc_auc_train, roc_auc_test))\n",
    "print('%-10s %20s %10s' % ('accuracy', accuracy_train, accuracy_test))\n",
    "print('%-10s %20s %10s' % ('recall', recall_train, recall_test))\n",
    "print('%-10s %20s %10s' % ('precision', precision_train, precision_test))\n",
    "print('\\n')"
   ]
  },
  {
   "cell_type": "raw",
   "id": "48585a45-ce3e-4f23-a8c5-2c0f2ba5e212",
   "metadata": {},
   "source": [
    "print('> confusion matrix \\n')\n",
    "print(tn, fp, fn, tp)\n",
    "print('\\n')"
   ]
  },
  {
   "cell_type": "raw",
   "id": "e5c89dcd-b4d4-4556-9950-94cc42b0491c",
   "metadata": {},
   "source": [
    "fpr, tpr, _ = roc_curve(y_test, y_pred_proba)\n",
    "roc_auc = auc(fpr, tpr)"
   ]
  },
  {
   "cell_type": "raw",
   "id": "1ebccdd3-a6a4-4e83-a0e4-8f181cbc1407",
   "metadata": {},
   "source": [
    "fpr_tpr = pd.DataFrame(data=np.array([fpr, tpr]).T, columns=[\"fpr\", \"tpr\"])\n",
    "fpr_tpr.to_excel(\"fpr_tpr_mtdt.xlsx\", index=False)"
   ]
  },
  {
   "cell_type": "raw",
   "id": "0e4f8a4d-b297-4002-af58-f6c7cabb0705",
   "metadata": {},
   "source": [
    "#----  getting feature importance\n",
    "optimized_rfc_importance = optimized_rfc.best_estimator_.feature_importances_\n",
    "indices = np.argsort(-1*optimized_rfc_importance)\n",
    "rfc_feature_imp_df = pd.DataFrame(optimized_rfc_importance, index=pd.DataFrame(X_test).columns, columns=['importance'])\n",
    "rfc_feature_imp_df.sort_values(by='importance', ascending=False, inplace=True)"
   ]
  },
  {
   "cell_type": "raw",
   "id": "a921145e-aa68-4add-a6a9-354eef3c38c6",
   "metadata": {},
   "source": [
    "# summarize feature importance\n",
    "print('> feature importance')\n",
    "for i in indices:\n",
    "    print('%-8s %-20s' % (round(optimized_rfc_importance[i], 4), f'({features[i]})'))"
   ]
  },
  {
   "cell_type": "raw",
   "id": "6c1e9516-2aff-41e7-8da0-6b0c7df29c89",
   "metadata": {},
   "source": [
    "# feature importance plot\n",
    "plt.style.use('seaborn')\n",
    "fig, ax = plt.subplots()\n",
    "ax.barh(range(len(indices[:25])), optimized_rfc_importance[indices[:25]], align='center')\n",
    "ax.set_yticks(range(len(indices[:25])))\n",
    "ax.set_yticklabels([features[i] for i in indices[:25]], fontsize=12)\n",
    "ax.invert_yaxis()\n",
    "ax.set_title('Feature Importances', fontsize=18, fontweight='bold')\n",
    "ax.set_xlabel('Relative Importance', fontsize=18, fontweight='bold')\n",
    "ax.set_ylabel('Features', fontsize=18, fontweight='bold')\n",
    "ax.spines['left'].set_color('black')\n",
    "ax.spines['left'].set_linewidth(2)\n",
    "ax.spines['bottom'].set_color('black')\n",
    "ax.spines['bottom'].set_linewidth(2)\n",
    "ax.grid(True)"
   ]
  },
  {
   "cell_type": "code",
   "execution_count": null,
   "id": "1257102c-9d9f-4b02-a9d0-5955f524ac46",
   "metadata": {},
   "outputs": [],
   "source": []
  },
  {
   "cell_type": "code",
   "execution_count": null,
   "id": "333ecb49-8120-4c14-bb8e-92dbcf57c8cd",
   "metadata": {},
   "outputs": [],
   "source": []
  }
 ],
 "metadata": {
  "kernelspec": {
   "display_name": "Python 3 (ipykernel)",
   "language": "python",
   "name": "python3"
  },
  "language_info": {
   "codemirror_mode": {
    "name": "ipython",
    "version": 3
   },
   "file_extension": ".py",
   "mimetype": "text/x-python",
   "name": "python",
   "nbconvert_exporter": "python",
   "pygments_lexer": "ipython3",
   "version": "3.9.6"
  }
 },
 "nbformat": 4,
 "nbformat_minor": 5
}
